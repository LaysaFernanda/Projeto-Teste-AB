{
 "cells": [
  {
   "cell_type": "markdown",
   "metadata": {},
   "source": [
    "# Sumário <a id='back'></a>\n",
    "\n",
    "* [1. Introdução](#intro)\n",
    "* [2. Inicialização](#data_review)\n",
    "* [3. Carregando dados](#data_preprocessing)\n",
    "* [4. Pré processamento de dados](#hipóteses)\n",
    "* [5. Análise exploratória dos dados](#analise)\n",
    "    * [5.1 Filtrando os dados](#filtrando)\n",
    "    * [5.2 Estudando a conversão em diferentes etapas do funil](#funil)\n",
    "    * [5.3  O número de eventos por usuário é distribuído igualmente entre as amostras?](#amostras)\n",
    "    * [5.4  Como o número de eventos é distribuído entre os dias?](#eventos)\n",
    "* [6. Avaliando resultados](#resultados)\n",
    "    * [6.1 Calculando proporções entre grupos para cada etapa do funil (product_page, product_cart, purchase)](#proporções)]\n",
    "    * [6.2 Testando diferenças estatísticas](#diferenças)\n",
    "* [7. Conclusão](#conclusão)"
   ]
  },
  {
   "cell_type": "markdown",
   "metadata": {},
   "source": [
    "## Introdução\n",
    "\n",
    "Uma loja online internacional iniciou uma tarefa analítica mas não completou: lançaram um teste A/B e desistiram (para começar uma fazenda de melancias no Brasil). Minha tarefa é completá-la."
   ]
  },
  {
   "cell_type": "markdown",
   "metadata": {},
   "source": [
    "## Inicialização"
   ]
  },
  {
   "cell_type": "code",
   "execution_count": 1,
   "metadata": {},
   "outputs": [],
   "source": [
    "import pandas as pd\n",
    "import matplotlib.pyplot as plt\n",
    "from scipy import stats as st\n",
    "import math\n",
    "import numpy as np"
   ]
  },
  {
   "cell_type": "markdown",
   "metadata": {},
   "source": [
    "## Carregando dados"
   ]
  },
  {
   "cell_type": "code",
   "execution_count": 2,
   "metadata": {},
   "outputs": [],
   "source": [
    "eventos = pd.read_csv(\"/datasets/ab_project_marketing_events_us.csv\")"
   ]
  },
  {
   "cell_type": "code",
   "execution_count": 3,
   "metadata": {},
   "outputs": [],
   "source": [
    "cadastros = pd.read_csv('/datasets/final_ab_new_users_upd_us.csv')"
   ]
  },
  {
   "cell_type": "code",
   "execution_count": 4,
   "metadata": {},
   "outputs": [],
   "source": [
    "eventos_usuarios = pd.read_csv('/datasets/final_ab_events_upd_us.csv')"
   ]
  },
  {
   "cell_type": "code",
   "execution_count": 5,
   "metadata": {},
   "outputs": [],
   "source": [
    "participantes = pd.read_csv('/datasets/final_ab_participants_upd_us.csv')"
   ]
  },
  {
   "cell_type": "markdown",
   "metadata": {},
   "source": [
    "## Pré processamento dos dados"
   ]
  },
  {
   "cell_type": "markdown",
   "metadata": {},
   "source": [
    "### Eventos\n",
    "\n",
    "Calendário de eventos de marketing para 2020\n",
    "\n",
    "- `name` — do nome dos eventos de marketing\n",
    "- `regions` — das regiões onde a campanha será realizada\n",
    "- `start_dt` — de data de início da campanha\n",
    "- `finish_dt` — da data de término da campanha"
   ]
  },
  {
   "cell_type": "code",
   "execution_count": 6,
   "metadata": {},
   "outputs": [
    {
     "name": "stdout",
     "output_type": "stream",
     "text": [
      "<class 'pandas.core.frame.DataFrame'>\n",
      "RangeIndex: 14 entries, 0 to 13\n",
      "Data columns (total 4 columns):\n",
      " #   Column     Non-Null Count  Dtype \n",
      "---  ------     --------------  ----- \n",
      " 0   name       14 non-null     object\n",
      " 1   regions    14 non-null     object\n",
      " 2   start_dt   14 non-null     object\n",
      " 3   finish_dt  14 non-null     object\n",
      "dtypes: object(4)\n",
      "memory usage: 576.0+ bytes\n"
     ]
    }
   ],
   "source": [
    "eventos.info()"
   ]
  },
  {
   "cell_type": "code",
   "execution_count": 7,
   "metadata": {},
   "outputs": [
    {
     "data": {
      "text/html": [
       "<div>\n",
       "<style scoped>\n",
       "    .dataframe tbody tr th:only-of-type {\n",
       "        vertical-align: middle;\n",
       "    }\n",
       "\n",
       "    .dataframe tbody tr th {\n",
       "        vertical-align: top;\n",
       "    }\n",
       "\n",
       "    .dataframe thead th {\n",
       "        text-align: right;\n",
       "    }\n",
       "</style>\n",
       "<table border=\"1\" class=\"dataframe\">\n",
       "  <thead>\n",
       "    <tr style=\"text-align: right;\">\n",
       "      <th></th>\n",
       "      <th>name</th>\n",
       "      <th>regions</th>\n",
       "      <th>start_dt</th>\n",
       "      <th>finish_dt</th>\n",
       "    </tr>\n",
       "  </thead>\n",
       "  <tbody>\n",
       "    <tr>\n",
       "      <th>0</th>\n",
       "      <td>Christmas&amp;New Year Promo</td>\n",
       "      <td>EU, N.America</td>\n",
       "      <td>2020-12-25</td>\n",
       "      <td>2021-01-03</td>\n",
       "    </tr>\n",
       "    <tr>\n",
       "      <th>1</th>\n",
       "      <td>St. Valentine's Day Giveaway</td>\n",
       "      <td>EU, CIS, APAC, N.America</td>\n",
       "      <td>2020-02-14</td>\n",
       "      <td>2020-02-16</td>\n",
       "    </tr>\n",
       "    <tr>\n",
       "      <th>2</th>\n",
       "      <td>St. Patric's Day Promo</td>\n",
       "      <td>EU, N.America</td>\n",
       "      <td>2020-03-17</td>\n",
       "      <td>2020-03-19</td>\n",
       "    </tr>\n",
       "    <tr>\n",
       "      <th>3</th>\n",
       "      <td>Easter Promo</td>\n",
       "      <td>EU, CIS, APAC, N.America</td>\n",
       "      <td>2020-04-12</td>\n",
       "      <td>2020-04-19</td>\n",
       "    </tr>\n",
       "    <tr>\n",
       "      <th>4</th>\n",
       "      <td>4th of July Promo</td>\n",
       "      <td>N.America</td>\n",
       "      <td>2020-07-04</td>\n",
       "      <td>2020-07-11</td>\n",
       "    </tr>\n",
       "    <tr>\n",
       "      <th>5</th>\n",
       "      <td>Black Friday Ads Campaign</td>\n",
       "      <td>EU, CIS, APAC, N.America</td>\n",
       "      <td>2020-11-26</td>\n",
       "      <td>2020-12-01</td>\n",
       "    </tr>\n",
       "    <tr>\n",
       "      <th>6</th>\n",
       "      <td>Chinese New Year Promo</td>\n",
       "      <td>APAC</td>\n",
       "      <td>2020-01-25</td>\n",
       "      <td>2020-02-07</td>\n",
       "    </tr>\n",
       "    <tr>\n",
       "      <th>7</th>\n",
       "      <td>Labor day (May 1st) Ads Campaign</td>\n",
       "      <td>EU, CIS, APAC</td>\n",
       "      <td>2020-05-01</td>\n",
       "      <td>2020-05-03</td>\n",
       "    </tr>\n",
       "    <tr>\n",
       "      <th>8</th>\n",
       "      <td>International Women's Day Promo</td>\n",
       "      <td>EU, CIS, APAC</td>\n",
       "      <td>2020-03-08</td>\n",
       "      <td>2020-03-10</td>\n",
       "    </tr>\n",
       "    <tr>\n",
       "      <th>9</th>\n",
       "      <td>Victory Day CIS (May 9th) Event</td>\n",
       "      <td>CIS</td>\n",
       "      <td>2020-05-09</td>\n",
       "      <td>2020-05-11</td>\n",
       "    </tr>\n",
       "    <tr>\n",
       "      <th>10</th>\n",
       "      <td>CIS New Year Gift Lottery</td>\n",
       "      <td>CIS</td>\n",
       "      <td>2020-12-30</td>\n",
       "      <td>2021-01-07</td>\n",
       "    </tr>\n",
       "    <tr>\n",
       "      <th>11</th>\n",
       "      <td>Dragon Boat Festival Giveaway</td>\n",
       "      <td>APAC</td>\n",
       "      <td>2020-06-25</td>\n",
       "      <td>2020-07-01</td>\n",
       "    </tr>\n",
       "    <tr>\n",
       "      <th>12</th>\n",
       "      <td>Single's Day Gift Promo</td>\n",
       "      <td>APAC</td>\n",
       "      <td>2020-11-11</td>\n",
       "      <td>2020-11-12</td>\n",
       "    </tr>\n",
       "    <tr>\n",
       "      <th>13</th>\n",
       "      <td>Chinese Moon Festival</td>\n",
       "      <td>APAC</td>\n",
       "      <td>2020-10-01</td>\n",
       "      <td>2020-10-07</td>\n",
       "    </tr>\n",
       "  </tbody>\n",
       "</table>\n",
       "</div>"
      ],
      "text/plain": [
       "                                name                   regions    start_dt  \\\n",
       "0           Christmas&New Year Promo             EU, N.America  2020-12-25   \n",
       "1       St. Valentine's Day Giveaway  EU, CIS, APAC, N.America  2020-02-14   \n",
       "2             St. Patric's Day Promo             EU, N.America  2020-03-17   \n",
       "3                       Easter Promo  EU, CIS, APAC, N.America  2020-04-12   \n",
       "4                  4th of July Promo                 N.America  2020-07-04   \n",
       "5          Black Friday Ads Campaign  EU, CIS, APAC, N.America  2020-11-26   \n",
       "6             Chinese New Year Promo                      APAC  2020-01-25   \n",
       "7   Labor day (May 1st) Ads Campaign             EU, CIS, APAC  2020-05-01   \n",
       "8    International Women's Day Promo             EU, CIS, APAC  2020-03-08   \n",
       "9    Victory Day CIS (May 9th) Event                       CIS  2020-05-09   \n",
       "10         CIS New Year Gift Lottery                       CIS  2020-12-30   \n",
       "11     Dragon Boat Festival Giveaway                      APAC  2020-06-25   \n",
       "12           Single's Day Gift Promo                      APAC  2020-11-11   \n",
       "13             Chinese Moon Festival                      APAC  2020-10-01   \n",
       "\n",
       "     finish_dt  \n",
       "0   2021-01-03  \n",
       "1   2020-02-16  \n",
       "2   2020-03-19  \n",
       "3   2020-04-19  \n",
       "4   2020-07-11  \n",
       "5   2020-12-01  \n",
       "6   2020-02-07  \n",
       "7   2020-05-03  \n",
       "8   2020-03-10  \n",
       "9   2020-05-11  \n",
       "10  2021-01-07  \n",
       "11  2020-07-01  \n",
       "12  2020-11-12  \n",
       "13  2020-10-07  "
      ]
     },
     "execution_count": 7,
     "metadata": {},
     "output_type": "execute_result"
    }
   ],
   "source": [
    "eventos"
   ]
  },
  {
   "cell_type": "code",
   "execution_count": 8,
   "metadata": {},
   "outputs": [
    {
     "data": {
      "text/plain": [
       "0"
      ]
     },
     "execution_count": 8,
     "metadata": {},
     "output_type": "execute_result"
    }
   ],
   "source": [
    "eventos.duplicated().sum()"
   ]
  },
  {
   "cell_type": "markdown",
   "metadata": {},
   "source": [
    "São 4 colunas e 14 linhas\n",
    "\n",
    "- Não possui valores ausentes\n",
    "- Não possui dados duplicados\n",
    "- O tipo de dados das colunas `start_dt` e `finish_dt` deveriam ser do tipo datetime."
   ]
  },
  {
   "cell_type": "code",
   "execution_count": 9,
   "metadata": {},
   "outputs": [],
   "source": [
    "# Transformando o tipo de dados para datetime\n",
    "eventos['start_dt'] = pd.to_datetime(eventos['start_dt'])\n",
    "eventos['finish_dt'] = pd.to_datetime(eventos['finish_dt'])"
   ]
  },
  {
   "cell_type": "code",
   "execution_count": 10,
   "metadata": {},
   "outputs": [
    {
     "name": "stdout",
     "output_type": "stream",
     "text": [
      "<class 'pandas.core.frame.DataFrame'>\n",
      "RangeIndex: 14 entries, 0 to 13\n",
      "Data columns (total 4 columns):\n",
      " #   Column     Non-Null Count  Dtype         \n",
      "---  ------     --------------  -----         \n",
      " 0   name       14 non-null     object        \n",
      " 1   regions    14 non-null     object        \n",
      " 2   start_dt   14 non-null     datetime64[ns]\n",
      " 3   finish_dt  14 non-null     datetime64[ns]\n",
      "dtypes: datetime64[ns](2), object(2)\n",
      "memory usage: 576.0+ bytes\n"
     ]
    }
   ],
   "source": [
    "# Verificando se funcionou\n",
    "eventos.info()"
   ]
  },
  {
   "cell_type": "markdown",
   "metadata": {},
   "source": [
    "### Cadastros\n",
    "\n",
    "Todos os usuários que se cadastraram na loja online de 7 de dezembro a 21, de 2020\n",
    "\n",
    "- `user_id`\n",
    "- `first_date` — da data de cadastro\n",
    "- `region`\n",
    "- `device` — do dispositivo usado para o cadastro"
   ]
  },
  {
   "cell_type": "code",
   "execution_count": 11,
   "metadata": {},
   "outputs": [
    {
     "name": "stdout",
     "output_type": "stream",
     "text": [
      "<class 'pandas.core.frame.DataFrame'>\n",
      "RangeIndex: 58703 entries, 0 to 58702\n",
      "Data columns (total 4 columns):\n",
      " #   Column      Non-Null Count  Dtype \n",
      "---  ------      --------------  ----- \n",
      " 0   user_id     58703 non-null  object\n",
      " 1   first_date  58703 non-null  object\n",
      " 2   region      58703 non-null  object\n",
      " 3   device      58703 non-null  object\n",
      "dtypes: object(4)\n",
      "memory usage: 1.8+ MB\n"
     ]
    }
   ],
   "source": [
    "cadastros.info()"
   ]
  },
  {
   "cell_type": "code",
   "execution_count": 12,
   "metadata": {},
   "outputs": [
    {
     "data": {
      "text/html": [
       "<div>\n",
       "<style scoped>\n",
       "    .dataframe tbody tr th:only-of-type {\n",
       "        vertical-align: middle;\n",
       "    }\n",
       "\n",
       "    .dataframe tbody tr th {\n",
       "        vertical-align: top;\n",
       "    }\n",
       "\n",
       "    .dataframe thead th {\n",
       "        text-align: right;\n",
       "    }\n",
       "</style>\n",
       "<table border=\"1\" class=\"dataframe\">\n",
       "  <thead>\n",
       "    <tr style=\"text-align: right;\">\n",
       "      <th></th>\n",
       "      <th>user_id</th>\n",
       "      <th>first_date</th>\n",
       "      <th>region</th>\n",
       "      <th>device</th>\n",
       "    </tr>\n",
       "  </thead>\n",
       "  <tbody>\n",
       "    <tr>\n",
       "      <th>0</th>\n",
       "      <td>D72A72121175D8BE</td>\n",
       "      <td>2020-12-07</td>\n",
       "      <td>EU</td>\n",
       "      <td>PC</td>\n",
       "    </tr>\n",
       "    <tr>\n",
       "      <th>1</th>\n",
       "      <td>F1C668619DFE6E65</td>\n",
       "      <td>2020-12-07</td>\n",
       "      <td>N.America</td>\n",
       "      <td>Android</td>\n",
       "    </tr>\n",
       "    <tr>\n",
       "      <th>2</th>\n",
       "      <td>2E1BF1D4C37EA01F</td>\n",
       "      <td>2020-12-07</td>\n",
       "      <td>EU</td>\n",
       "      <td>PC</td>\n",
       "    </tr>\n",
       "    <tr>\n",
       "      <th>3</th>\n",
       "      <td>50734A22C0C63768</td>\n",
       "      <td>2020-12-07</td>\n",
       "      <td>EU</td>\n",
       "      <td>iPhone</td>\n",
       "    </tr>\n",
       "    <tr>\n",
       "      <th>4</th>\n",
       "      <td>E1BDDCE0DAFA2679</td>\n",
       "      <td>2020-12-07</td>\n",
       "      <td>N.America</td>\n",
       "      <td>iPhone</td>\n",
       "    </tr>\n",
       "  </tbody>\n",
       "</table>\n",
       "</div>"
      ],
      "text/plain": [
       "            user_id  first_date     region   device\n",
       "0  D72A72121175D8BE  2020-12-07         EU       PC\n",
       "1  F1C668619DFE6E65  2020-12-07  N.America  Android\n",
       "2  2E1BF1D4C37EA01F  2020-12-07         EU       PC\n",
       "3  50734A22C0C63768  2020-12-07         EU   iPhone\n",
       "4  E1BDDCE0DAFA2679  2020-12-07  N.America   iPhone"
      ]
     },
     "execution_count": 12,
     "metadata": {},
     "output_type": "execute_result"
    }
   ],
   "source": [
    "cadastros.head()"
   ]
  },
  {
   "cell_type": "code",
   "execution_count": 13,
   "metadata": {},
   "outputs": [
    {
     "data": {
      "text/plain": [
       "0"
      ]
     },
     "execution_count": 13,
     "metadata": {},
     "output_type": "execute_result"
    }
   ],
   "source": [
    "cadastros.duplicated().sum()"
   ]
  },
  {
   "cell_type": "markdown",
   "metadata": {},
   "source": [
    "São 4 colunas e 58703 linhas\n",
    "- Não possui valores ausentes\n",
    "- Não possui dados duplicados\n",
    "- O tipo da coluna `first_date` deveria ser do tipo datetime"
   ]
  },
  {
   "cell_type": "code",
   "execution_count": 14,
   "metadata": {},
   "outputs": [],
   "source": [
    "# Mudando o tipo de dados para datetime\n",
    "cadastros['first_date'] = pd.to_datetime(cadastros['first_date'])"
   ]
  },
  {
   "cell_type": "code",
   "execution_count": 15,
   "metadata": {},
   "outputs": [
    {
     "name": "stdout",
     "output_type": "stream",
     "text": [
      "<class 'pandas.core.frame.DataFrame'>\n",
      "RangeIndex: 58703 entries, 0 to 58702\n",
      "Data columns (total 4 columns):\n",
      " #   Column      Non-Null Count  Dtype         \n",
      "---  ------      --------------  -----         \n",
      " 0   user_id     58703 non-null  object        \n",
      " 1   first_date  58703 non-null  datetime64[ns]\n",
      " 2   region      58703 non-null  object        \n",
      " 3   device      58703 non-null  object        \n",
      "dtypes: datetime64[ns](1), object(3)\n",
      "memory usage: 1.8+ MB\n"
     ]
    }
   ],
   "source": [
    "# Verificando se funcionou\n",
    "cadastros.info()"
   ]
  },
  {
   "cell_type": "markdown",
   "metadata": {},
   "source": [
    "###  Eventos_usuários\n",
    "\n",
    "Todos os eventos dos novos usuários dentro do período de 7 de dezembro, de 2020 até 1 de janeiro, de 2021\n",
    "\n",
    "- `user_id`\n",
    "- `event_dt` — da data e hora do evento\n",
    "- `event_name` — do nome da fonte do evento\n",
    "- `details` — dos dados adicionais sobre o evento (por exemplo, o total do pedido em USD para eventos `purchase`)"
   ]
  },
  {
   "cell_type": "code",
   "execution_count": 16,
   "metadata": {},
   "outputs": [
    {
     "name": "stdout",
     "output_type": "stream",
     "text": [
      "<class 'pandas.core.frame.DataFrame'>\n",
      "RangeIndex: 423761 entries, 0 to 423760\n",
      "Data columns (total 4 columns):\n",
      " #   Column      Non-Null Count   Dtype  \n",
      "---  ------      --------------   -----  \n",
      " 0   user_id     423761 non-null  object \n",
      " 1   event_dt    423761 non-null  object \n",
      " 2   event_name  423761 non-null  object \n",
      " 3   details     60314 non-null   float64\n",
      "dtypes: float64(1), object(3)\n",
      "memory usage: 12.9+ MB\n"
     ]
    }
   ],
   "source": [
    "eventos_usuarios.info()"
   ]
  },
  {
   "cell_type": "code",
   "execution_count": 17,
   "metadata": {},
   "outputs": [
    {
     "data": {
      "text/html": [
       "<div>\n",
       "<style scoped>\n",
       "    .dataframe tbody tr th:only-of-type {\n",
       "        vertical-align: middle;\n",
       "    }\n",
       "\n",
       "    .dataframe tbody tr th {\n",
       "        vertical-align: top;\n",
       "    }\n",
       "\n",
       "    .dataframe thead th {\n",
       "        text-align: right;\n",
       "    }\n",
       "</style>\n",
       "<table border=\"1\" class=\"dataframe\">\n",
       "  <thead>\n",
       "    <tr style=\"text-align: right;\">\n",
       "      <th></th>\n",
       "      <th>user_id</th>\n",
       "      <th>event_dt</th>\n",
       "      <th>event_name</th>\n",
       "      <th>details</th>\n",
       "    </tr>\n",
       "  </thead>\n",
       "  <tbody>\n",
       "    <tr>\n",
       "      <th>0</th>\n",
       "      <td>E1BDDCE0DAFA2679</td>\n",
       "      <td>2020-12-07 20:22:03</td>\n",
       "      <td>purchase</td>\n",
       "      <td>99.99</td>\n",
       "    </tr>\n",
       "    <tr>\n",
       "      <th>1</th>\n",
       "      <td>7B6452F081F49504</td>\n",
       "      <td>2020-12-07 09:22:53</td>\n",
       "      <td>purchase</td>\n",
       "      <td>9.99</td>\n",
       "    </tr>\n",
       "    <tr>\n",
       "      <th>2</th>\n",
       "      <td>9CD9F34546DF254C</td>\n",
       "      <td>2020-12-07 12:59:29</td>\n",
       "      <td>purchase</td>\n",
       "      <td>4.99</td>\n",
       "    </tr>\n",
       "    <tr>\n",
       "      <th>3</th>\n",
       "      <td>96F27A054B191457</td>\n",
       "      <td>2020-12-07 04:02:40</td>\n",
       "      <td>purchase</td>\n",
       "      <td>4.99</td>\n",
       "    </tr>\n",
       "    <tr>\n",
       "      <th>4</th>\n",
       "      <td>1FD7660FDF94CA1F</td>\n",
       "      <td>2020-12-07 10:15:09</td>\n",
       "      <td>purchase</td>\n",
       "      <td>4.99</td>\n",
       "    </tr>\n",
       "  </tbody>\n",
       "</table>\n",
       "</div>"
      ],
      "text/plain": [
       "            user_id             event_dt event_name  details\n",
       "0  E1BDDCE0DAFA2679  2020-12-07 20:22:03   purchase    99.99\n",
       "1  7B6452F081F49504  2020-12-07 09:22:53   purchase     9.99\n",
       "2  9CD9F34546DF254C  2020-12-07 12:59:29   purchase     4.99\n",
       "3  96F27A054B191457  2020-12-07 04:02:40   purchase     4.99\n",
       "4  1FD7660FDF94CA1F  2020-12-07 10:15:09   purchase     4.99"
      ]
     },
     "execution_count": 17,
     "metadata": {},
     "output_type": "execute_result"
    }
   ],
   "source": [
    "eventos_usuarios.head()"
   ]
  },
  {
   "cell_type": "code",
   "execution_count": 18,
   "metadata": {},
   "outputs": [
    {
     "data": {
      "text/plain": [
       "0"
      ]
     },
     "execution_count": 18,
     "metadata": {},
     "output_type": "execute_result"
    }
   ],
   "source": [
    "eventos_usuarios.duplicated().sum()"
   ]
  },
  {
   "cell_type": "markdown",
   "metadata": {},
   "source": [
    "São 4 colunas e 423761 linhas\n",
    "- Não possui dados duplicados\n",
    "- A coluna `details` possui muitos valores ausentes\n",
    "- O tipo da coluna `event_dt` deveria ser do tipo datetime"
   ]
  },
  {
   "cell_type": "code",
   "execution_count": 19,
   "metadata": {},
   "outputs": [
    {
     "data": {
      "text/plain": [
       "login           182465\n",
       "product_page    120862\n",
       "product_cart     60120\n",
       "Name: event_name, dtype: int64"
      ]
     },
     "execution_count": 19,
     "metadata": {},
     "output_type": "execute_result"
    }
   ],
   "source": [
    "# Lidando com valores ausentes\n",
    "\n",
    "eventos_usuarios[eventos_usuarios['details'].isna()]['event_name'].value_counts()"
   ]
  },
  {
   "cell_type": "code",
   "execution_count": 20,
   "metadata": {},
   "outputs": [
    {
     "data": {
      "text/plain": [
       "login           182465\n",
       "product_page    120862\n",
       "purchase         60314\n",
       "product_cart     60120\n",
       "Name: event_name, dtype: int64"
      ]
     },
     "execution_count": 20,
     "metadata": {},
     "output_type": "execute_result"
    }
   ],
   "source": [
    "eventos_usuarios['event_name'].value_counts()"
   ]
  },
  {
   "cell_type": "markdown",
   "metadata": {},
   "source": [
    "Os detalhes são nulos para eventos que não são compras, pois eles não tem valor a ser detalhado."
   ]
  },
  {
   "cell_type": "code",
   "execution_count": 21,
   "metadata": {},
   "outputs": [],
   "source": [
    "# Mudando tipo de dados\n",
    "\n",
    "eventos_usuarios['event_dt'] = pd.to_datetime(eventos_usuarios['event_dt'])"
   ]
  },
  {
   "cell_type": "code",
   "execution_count": 22,
   "metadata": {},
   "outputs": [
    {
     "name": "stdout",
     "output_type": "stream",
     "text": [
      "<class 'pandas.core.frame.DataFrame'>\n",
      "RangeIndex: 423761 entries, 0 to 423760\n",
      "Data columns (total 4 columns):\n",
      " #   Column      Non-Null Count   Dtype         \n",
      "---  ------      --------------   -----         \n",
      " 0   user_id     423761 non-null  object        \n",
      " 1   event_dt    423761 non-null  datetime64[ns]\n",
      " 2   event_name  423761 non-null  object        \n",
      " 3   details     60314 non-null   float64       \n",
      "dtypes: datetime64[ns](1), float64(1), object(2)\n",
      "memory usage: 12.9+ MB\n"
     ]
    }
   ],
   "source": [
    "# Verificando se funcionou\n",
    "\n",
    "eventos_usuarios.info()"
   ]
  },
  {
   "cell_type": "markdown",
   "metadata": {},
   "source": [
    "### Participantes\n",
    "\n",
    "Tabela contendo os participantes do teste\n",
    "\n",
    "- `user_id`\n",
    "- `ab_test` — nome do teste\n",
    "- `group` — o grupo de teste ao qual o usuário pertencia"
   ]
  },
  {
   "cell_type": "code",
   "execution_count": 23,
   "metadata": {},
   "outputs": [
    {
     "name": "stdout",
     "output_type": "stream",
     "text": [
      "<class 'pandas.core.frame.DataFrame'>\n",
      "RangeIndex: 14525 entries, 0 to 14524\n",
      "Data columns (total 3 columns):\n",
      " #   Column   Non-Null Count  Dtype \n",
      "---  ------   --------------  ----- \n",
      " 0   user_id  14525 non-null  object\n",
      " 1   group    14525 non-null  object\n",
      " 2   ab_test  14525 non-null  object\n",
      "dtypes: object(3)\n",
      "memory usage: 340.6+ KB\n"
     ]
    }
   ],
   "source": [
    "participantes.info()"
   ]
  },
  {
   "cell_type": "code",
   "execution_count": 24,
   "metadata": {},
   "outputs": [
    {
     "data": {
      "text/html": [
       "<div>\n",
       "<style scoped>\n",
       "    .dataframe tbody tr th:only-of-type {\n",
       "        vertical-align: middle;\n",
       "    }\n",
       "\n",
       "    .dataframe tbody tr th {\n",
       "        vertical-align: top;\n",
       "    }\n",
       "\n",
       "    .dataframe thead th {\n",
       "        text-align: right;\n",
       "    }\n",
       "</style>\n",
       "<table border=\"1\" class=\"dataframe\">\n",
       "  <thead>\n",
       "    <tr style=\"text-align: right;\">\n",
       "      <th></th>\n",
       "      <th>user_id</th>\n",
       "      <th>group</th>\n",
       "      <th>ab_test</th>\n",
       "    </tr>\n",
       "  </thead>\n",
       "  <tbody>\n",
       "    <tr>\n",
       "      <th>0</th>\n",
       "      <td>D1ABA3E2887B6A73</td>\n",
       "      <td>A</td>\n",
       "      <td>recommender_system_test</td>\n",
       "    </tr>\n",
       "    <tr>\n",
       "      <th>1</th>\n",
       "      <td>A7A3664BD6242119</td>\n",
       "      <td>A</td>\n",
       "      <td>recommender_system_test</td>\n",
       "    </tr>\n",
       "    <tr>\n",
       "      <th>2</th>\n",
       "      <td>DABC14FDDFADD29E</td>\n",
       "      <td>A</td>\n",
       "      <td>recommender_system_test</td>\n",
       "    </tr>\n",
       "    <tr>\n",
       "      <th>3</th>\n",
       "      <td>04988C5DF189632E</td>\n",
       "      <td>A</td>\n",
       "      <td>recommender_system_test</td>\n",
       "    </tr>\n",
       "    <tr>\n",
       "      <th>4</th>\n",
       "      <td>4FF2998A348C484F</td>\n",
       "      <td>A</td>\n",
       "      <td>recommender_system_test</td>\n",
       "    </tr>\n",
       "  </tbody>\n",
       "</table>\n",
       "</div>"
      ],
      "text/plain": [
       "            user_id group                  ab_test\n",
       "0  D1ABA3E2887B6A73     A  recommender_system_test\n",
       "1  A7A3664BD6242119     A  recommender_system_test\n",
       "2  DABC14FDDFADD29E     A  recommender_system_test\n",
       "3  04988C5DF189632E     A  recommender_system_test\n",
       "4  4FF2998A348C484F     A  recommender_system_test"
      ]
     },
     "execution_count": 24,
     "metadata": {},
     "output_type": "execute_result"
    }
   ],
   "source": [
    "participantes.head()"
   ]
  },
  {
   "cell_type": "code",
   "execution_count": 25,
   "metadata": {},
   "outputs": [
    {
     "data": {
      "text/plain": [
       "0"
      ]
     },
     "execution_count": 25,
     "metadata": {},
     "output_type": "execute_result"
    }
   ],
   "source": [
    "participantes.duplicated().sum()"
   ]
  },
  {
   "cell_type": "markdown",
   "metadata": {},
   "source": [
    "São 3 colunas e 14525 linhas\n",
    "- Não possui valores ausentes\n",
    "- Não possui valores duplicados\n",
    "- O tipo dos dados estão corretos\n"
   ]
  },
  {
   "cell_type": "code",
   "execution_count": 26,
   "metadata": {},
   "outputs": [],
   "source": [
    "# Excluindo possíveis dados que ultrapassem o tempo do teste\n",
    "eventos_usuarios = eventos_usuarios[eventos_usuarios['event_dt']<pd.to_datetime('01-01-2021', format='%d-%m-%Y')]"
   ]
  },
  {
   "cell_type": "markdown",
   "metadata": {},
   "source": [
    "## Análise exploratória dos dados"
   ]
  },
  {
   "cell_type": "markdown",
   "metadata": {},
   "source": [
    "**- Resultado esperado: em até 14 dias após o cadastro, usuários mostram uma conversão melhor nas visualizações de página do produto (o evento `product_page` event), ao adicionar itens ao carrinho (`product_cart`), e compras (`purchase`). A cada etapa do funil `product_page → product_cart → purchase`, terá ao menos 10% de aumento.**"
   ]
  },
  {
   "cell_type": "markdown",
   "metadata": {},
   "source": [
    "### Filtrando os dados"
   ]
  },
  {
   "cell_type": "markdown",
   "metadata": {},
   "source": [
    "Precisamos saber a \"idade\" para fazer a análise acima. Vou salvar a data de cadastro dos usuários."
   ]
  },
  {
   "cell_type": "code",
   "execution_count": 27,
   "metadata": {},
   "outputs": [],
   "source": [
    "age = cadastros.pivot_table(index='user_id', values='first_date', aggfunc='min')"
   ]
  },
  {
   "cell_type": "code",
   "execution_count": 28,
   "metadata": {},
   "outputs": [
    {
     "data": {
      "text/html": [
       "<div>\n",
       "<style scoped>\n",
       "    .dataframe tbody tr th:only-of-type {\n",
       "        vertical-align: middle;\n",
       "    }\n",
       "\n",
       "    .dataframe tbody tr th {\n",
       "        vertical-align: top;\n",
       "    }\n",
       "\n",
       "    .dataframe thead th {\n",
       "        text-align: right;\n",
       "    }\n",
       "</style>\n",
       "<table border=\"1\" class=\"dataframe\">\n",
       "  <thead>\n",
       "    <tr style=\"text-align: right;\">\n",
       "      <th></th>\n",
       "      <th>first_date</th>\n",
       "    </tr>\n",
       "    <tr>\n",
       "      <th>user_id</th>\n",
       "      <th></th>\n",
       "    </tr>\n",
       "  </thead>\n",
       "  <tbody>\n",
       "    <tr>\n",
       "      <th>0001710F4DDB1D1B</th>\n",
       "      <td>2020-12-14</td>\n",
       "    </tr>\n",
       "    <tr>\n",
       "      <th>000199F1887AE5E6</th>\n",
       "      <td>2020-12-14</td>\n",
       "    </tr>\n",
       "    <tr>\n",
       "      <th>0002499E372175C7</th>\n",
       "      <td>2020-12-22</td>\n",
       "    </tr>\n",
       "    <tr>\n",
       "      <th>0002CE61FF2C4011</th>\n",
       "      <td>2020-12-07</td>\n",
       "    </tr>\n",
       "    <tr>\n",
       "      <th>000456437D0EFFE1</th>\n",
       "      <td>2020-12-15</td>\n",
       "    </tr>\n",
       "    <tr>\n",
       "      <th>...</th>\n",
       "      <td>...</td>\n",
       "    </tr>\n",
       "    <tr>\n",
       "      <th>FFF7A7BAF44FE9B4</th>\n",
       "      <td>2020-12-19</td>\n",
       "    </tr>\n",
       "    <tr>\n",
       "      <th>FFF8FDBE2FE99C91</th>\n",
       "      <td>2020-12-20</td>\n",
       "    </tr>\n",
       "    <tr>\n",
       "      <th>FFF91B6C5431F375</th>\n",
       "      <td>2020-12-14</td>\n",
       "    </tr>\n",
       "    <tr>\n",
       "      <th>FFFAB034A09DCC28</th>\n",
       "      <td>2020-12-18</td>\n",
       "    </tr>\n",
       "    <tr>\n",
       "      <th>FFFFE36C0F6E92DF</th>\n",
       "      <td>2020-12-22</td>\n",
       "    </tr>\n",
       "  </tbody>\n",
       "</table>\n",
       "<p>58703 rows × 1 columns</p>\n",
       "</div>"
      ],
      "text/plain": [
       "                 first_date\n",
       "user_id                    \n",
       "0001710F4DDB1D1B 2020-12-14\n",
       "000199F1887AE5E6 2020-12-14\n",
       "0002499E372175C7 2020-12-22\n",
       "0002CE61FF2C4011 2020-12-07\n",
       "000456437D0EFFE1 2020-12-15\n",
       "...                     ...\n",
       "FFF7A7BAF44FE9B4 2020-12-19\n",
       "FFF8FDBE2FE99C91 2020-12-20\n",
       "FFF91B6C5431F375 2020-12-14\n",
       "FFFAB034A09DCC28 2020-12-18\n",
       "FFFFE36C0F6E92DF 2020-12-22\n",
       "\n",
       "[58703 rows x 1 columns]"
      ]
     },
     "execution_count": 28,
     "metadata": {},
     "output_type": "execute_result"
    }
   ],
   "source": [
    "age"
   ]
  },
  {
   "cell_type": "code",
   "execution_count": 29,
   "metadata": {},
   "outputs": [],
   "source": [
    "start_date = pd.to_datetime('07-12-2020', format='%d-%m-%Y')\n",
    "end_date = pd.to_datetime('21-12-2020', format='%d-%m-%Y')\n",
    "users_dt = age[(age['first_date'] > start_date) & (age['first_date'] < end_date)]"
   ]
  },
  {
   "cell_type": "code",
   "execution_count": 30,
   "metadata": {},
   "outputs": [],
   "source": [
    "users_dt = users_dt.reset_index()"
   ]
  },
  {
   "cell_type": "markdown",
   "metadata": {},
   "source": [
    "**Juntando as tabelas para a análise**"
   ]
  },
  {
   "cell_type": "code",
   "execution_count": 31,
   "metadata": {},
   "outputs": [],
   "source": [
    "eventos_usuarios = pd.merge(users_dt, eventos_usuarios, on='user_id', how='left')"
   ]
  },
  {
   "cell_type": "code",
   "execution_count": 32,
   "metadata": {},
   "outputs": [],
   "source": [
    "eventos_usuarios = pd.merge(cadastros, eventos_usuarios, on='user_id', how='left')"
   ]
  },
  {
   "cell_type": "code",
   "execution_count": 33,
   "metadata": {},
   "outputs": [],
   "source": [
    "eventos_usuarios = pd.merge(participantes, eventos_usuarios, on='user_id', how='left')"
   ]
  },
  {
   "cell_type": "code",
   "execution_count": 34,
   "metadata": {
    "scrolled": false
   },
   "outputs": [
    {
     "data": {
      "text/html": [
       "<div>\n",
       "<style scoped>\n",
       "    .dataframe tbody tr th:only-of-type {\n",
       "        vertical-align: middle;\n",
       "    }\n",
       "\n",
       "    .dataframe tbody tr th {\n",
       "        vertical-align: top;\n",
       "    }\n",
       "\n",
       "    .dataframe thead th {\n",
       "        text-align: right;\n",
       "    }\n",
       "</style>\n",
       "<table border=\"1\" class=\"dataframe\">\n",
       "  <thead>\n",
       "    <tr style=\"text-align: right;\">\n",
       "      <th></th>\n",
       "      <th>user_id</th>\n",
       "      <th>group</th>\n",
       "      <th>ab_test</th>\n",
       "      <th>first_date_x</th>\n",
       "      <th>region</th>\n",
       "      <th>device</th>\n",
       "      <th>first_date_y</th>\n",
       "      <th>event_dt</th>\n",
       "      <th>event_name</th>\n",
       "      <th>details</th>\n",
       "    </tr>\n",
       "  </thead>\n",
       "  <tbody>\n",
       "    <tr>\n",
       "      <th>0</th>\n",
       "      <td>D1ABA3E2887B6A73</td>\n",
       "      <td>A</td>\n",
       "      <td>recommender_system_test</td>\n",
       "      <td>2020-12-07</td>\n",
       "      <td>EU</td>\n",
       "      <td>PC</td>\n",
       "      <td>NaT</td>\n",
       "      <td>NaT</td>\n",
       "      <td>NaN</td>\n",
       "      <td>NaN</td>\n",
       "    </tr>\n",
       "    <tr>\n",
       "      <th>1</th>\n",
       "      <td>A7A3664BD6242119</td>\n",
       "      <td>A</td>\n",
       "      <td>recommender_system_test</td>\n",
       "      <td>2020-12-20</td>\n",
       "      <td>EU</td>\n",
       "      <td>iPhone</td>\n",
       "      <td>2020-12-20</td>\n",
       "      <td>2020-12-20 15:46:06</td>\n",
       "      <td>product_page</td>\n",
       "      <td>NaN</td>\n",
       "    </tr>\n",
       "    <tr>\n",
       "      <th>2</th>\n",
       "      <td>A7A3664BD6242119</td>\n",
       "      <td>A</td>\n",
       "      <td>recommender_system_test</td>\n",
       "      <td>2020-12-20</td>\n",
       "      <td>EU</td>\n",
       "      <td>iPhone</td>\n",
       "      <td>2020-12-20</td>\n",
       "      <td>2020-12-21 00:40:59</td>\n",
       "      <td>product_page</td>\n",
       "      <td>NaN</td>\n",
       "    </tr>\n",
       "    <tr>\n",
       "      <th>3</th>\n",
       "      <td>A7A3664BD6242119</td>\n",
       "      <td>A</td>\n",
       "      <td>recommender_system_test</td>\n",
       "      <td>2020-12-20</td>\n",
       "      <td>EU</td>\n",
       "      <td>iPhone</td>\n",
       "      <td>2020-12-20</td>\n",
       "      <td>2020-12-20 15:46:02</td>\n",
       "      <td>login</td>\n",
       "      <td>NaN</td>\n",
       "    </tr>\n",
       "    <tr>\n",
       "      <th>4</th>\n",
       "      <td>A7A3664BD6242119</td>\n",
       "      <td>A</td>\n",
       "      <td>recommender_system_test</td>\n",
       "      <td>2020-12-20</td>\n",
       "      <td>EU</td>\n",
       "      <td>iPhone</td>\n",
       "      <td>2020-12-20</td>\n",
       "      <td>2020-12-21 00:40:58</td>\n",
       "      <td>login</td>\n",
       "      <td>NaN</td>\n",
       "    </tr>\n",
       "    <tr>\n",
       "      <th>...</th>\n",
       "      <td>...</td>\n",
       "      <td>...</td>\n",
       "      <td>...</td>\n",
       "      <td>...</td>\n",
       "      <td>...</td>\n",
       "      <td>...</td>\n",
       "      <td>...</td>\n",
       "      <td>...</td>\n",
       "      <td>...</td>\n",
       "      <td>...</td>\n",
       "    </tr>\n",
       "    <tr>\n",
       "      <th>81030</th>\n",
       "      <td>63FBE257B05F2245</td>\n",
       "      <td>A</td>\n",
       "      <td>interface_eu_test</td>\n",
       "      <td>2020-12-20</td>\n",
       "      <td>EU</td>\n",
       "      <td>Android</td>\n",
       "      <td>2020-12-20</td>\n",
       "      <td>2020-12-23 13:03:17</td>\n",
       "      <td>login</td>\n",
       "      <td>NaN</td>\n",
       "    </tr>\n",
       "    <tr>\n",
       "      <th>81031</th>\n",
       "      <td>79F9ABFB029CF724</td>\n",
       "      <td>B</td>\n",
       "      <td>interface_eu_test</td>\n",
       "      <td>2020-12-14</td>\n",
       "      <td>EU</td>\n",
       "      <td>PC</td>\n",
       "      <td>2020-12-14</td>\n",
       "      <td>2020-12-14 19:12:49</td>\n",
       "      <td>login</td>\n",
       "      <td>NaN</td>\n",
       "    </tr>\n",
       "    <tr>\n",
       "      <th>81032</th>\n",
       "      <td>79F9ABFB029CF724</td>\n",
       "      <td>B</td>\n",
       "      <td>interface_eu_test</td>\n",
       "      <td>2020-12-14</td>\n",
       "      <td>EU</td>\n",
       "      <td>PC</td>\n",
       "      <td>2020-12-14</td>\n",
       "      <td>2020-12-15 01:50:22</td>\n",
       "      <td>login</td>\n",
       "      <td>NaN</td>\n",
       "    </tr>\n",
       "    <tr>\n",
       "      <th>81033</th>\n",
       "      <td>79F9ABFB029CF724</td>\n",
       "      <td>B</td>\n",
       "      <td>interface_eu_test</td>\n",
       "      <td>2020-12-14</td>\n",
       "      <td>EU</td>\n",
       "      <td>PC</td>\n",
       "      <td>2020-12-14</td>\n",
       "      <td>2020-12-16 19:27:36</td>\n",
       "      <td>login</td>\n",
       "      <td>NaN</td>\n",
       "    </tr>\n",
       "    <tr>\n",
       "      <th>81034</th>\n",
       "      <td>79F9ABFB029CF724</td>\n",
       "      <td>B</td>\n",
       "      <td>interface_eu_test</td>\n",
       "      <td>2020-12-14</td>\n",
       "      <td>EU</td>\n",
       "      <td>PC</td>\n",
       "      <td>2020-12-14</td>\n",
       "      <td>2020-12-20 13:04:31</td>\n",
       "      <td>login</td>\n",
       "      <td>NaN</td>\n",
       "    </tr>\n",
       "  </tbody>\n",
       "</table>\n",
       "<p>81035 rows × 10 columns</p>\n",
       "</div>"
      ],
      "text/plain": [
       "                user_id group                  ab_test first_date_x region  \\\n",
       "0      D1ABA3E2887B6A73     A  recommender_system_test   2020-12-07     EU   \n",
       "1      A7A3664BD6242119     A  recommender_system_test   2020-12-20     EU   \n",
       "2      A7A3664BD6242119     A  recommender_system_test   2020-12-20     EU   \n",
       "3      A7A3664BD6242119     A  recommender_system_test   2020-12-20     EU   \n",
       "4      A7A3664BD6242119     A  recommender_system_test   2020-12-20     EU   \n",
       "...                 ...   ...                      ...          ...    ...   \n",
       "81030  63FBE257B05F2245     A        interface_eu_test   2020-12-20     EU   \n",
       "81031  79F9ABFB029CF724     B        interface_eu_test   2020-12-14     EU   \n",
       "81032  79F9ABFB029CF724     B        interface_eu_test   2020-12-14     EU   \n",
       "81033  79F9ABFB029CF724     B        interface_eu_test   2020-12-14     EU   \n",
       "81034  79F9ABFB029CF724     B        interface_eu_test   2020-12-14     EU   \n",
       "\n",
       "        device first_date_y            event_dt    event_name  details  \n",
       "0           PC          NaT                 NaT           NaN      NaN  \n",
       "1       iPhone   2020-12-20 2020-12-20 15:46:06  product_page      NaN  \n",
       "2       iPhone   2020-12-20 2020-12-21 00:40:59  product_page      NaN  \n",
       "3       iPhone   2020-12-20 2020-12-20 15:46:02         login      NaN  \n",
       "4       iPhone   2020-12-20 2020-12-21 00:40:58         login      NaN  \n",
       "...        ...          ...                 ...           ...      ...  \n",
       "81030  Android   2020-12-20 2020-12-23 13:03:17         login      NaN  \n",
       "81031       PC   2020-12-14 2020-12-14 19:12:49         login      NaN  \n",
       "81032       PC   2020-12-14 2020-12-15 01:50:22         login      NaN  \n",
       "81033       PC   2020-12-14 2020-12-16 19:27:36         login      NaN  \n",
       "81034       PC   2020-12-14 2020-12-20 13:04:31         login      NaN  \n",
       "\n",
       "[81035 rows x 10 columns]"
      ]
     },
     "execution_count": 34,
     "metadata": {},
     "output_type": "execute_result"
    }
   ],
   "source": [
    "eventos_usuarios"
   ]
  },
  {
   "cell_type": "markdown",
   "metadata": {},
   "source": [
    "**Excluindo colunas repetidas ou que não serão necessárias**"
   ]
  },
  {
   "cell_type": "code",
   "execution_count": 35,
   "metadata": {},
   "outputs": [],
   "source": [
    "eventos_usuarios = eventos_usuarios.drop(['first_date_y', 'device'], axis = 1)"
   ]
  },
  {
   "cell_type": "code",
   "execution_count": 36,
   "metadata": {},
   "outputs": [
    {
     "data": {
      "text/html": [
       "<div>\n",
       "<style scoped>\n",
       "    .dataframe tbody tr th:only-of-type {\n",
       "        vertical-align: middle;\n",
       "    }\n",
       "\n",
       "    .dataframe tbody tr th {\n",
       "        vertical-align: top;\n",
       "    }\n",
       "\n",
       "    .dataframe thead th {\n",
       "        text-align: right;\n",
       "    }\n",
       "</style>\n",
       "<table border=\"1\" class=\"dataframe\">\n",
       "  <thead>\n",
       "    <tr style=\"text-align: right;\">\n",
       "      <th></th>\n",
       "      <th>user_id</th>\n",
       "      <th>group</th>\n",
       "      <th>ab_test</th>\n",
       "      <th>first_date_x</th>\n",
       "      <th>region</th>\n",
       "      <th>event_dt</th>\n",
       "      <th>event_name</th>\n",
       "      <th>details</th>\n",
       "    </tr>\n",
       "  </thead>\n",
       "  <tbody>\n",
       "    <tr>\n",
       "      <th>0</th>\n",
       "      <td>D1ABA3E2887B6A73</td>\n",
       "      <td>A</td>\n",
       "      <td>recommender_system_test</td>\n",
       "      <td>2020-12-07</td>\n",
       "      <td>EU</td>\n",
       "      <td>NaT</td>\n",
       "      <td>NaN</td>\n",
       "      <td>NaN</td>\n",
       "    </tr>\n",
       "    <tr>\n",
       "      <th>1</th>\n",
       "      <td>A7A3664BD6242119</td>\n",
       "      <td>A</td>\n",
       "      <td>recommender_system_test</td>\n",
       "      <td>2020-12-20</td>\n",
       "      <td>EU</td>\n",
       "      <td>2020-12-20 15:46:06</td>\n",
       "      <td>product_page</td>\n",
       "      <td>NaN</td>\n",
       "    </tr>\n",
       "    <tr>\n",
       "      <th>2</th>\n",
       "      <td>A7A3664BD6242119</td>\n",
       "      <td>A</td>\n",
       "      <td>recommender_system_test</td>\n",
       "      <td>2020-12-20</td>\n",
       "      <td>EU</td>\n",
       "      <td>2020-12-21 00:40:59</td>\n",
       "      <td>product_page</td>\n",
       "      <td>NaN</td>\n",
       "    </tr>\n",
       "    <tr>\n",
       "      <th>3</th>\n",
       "      <td>A7A3664BD6242119</td>\n",
       "      <td>A</td>\n",
       "      <td>recommender_system_test</td>\n",
       "      <td>2020-12-20</td>\n",
       "      <td>EU</td>\n",
       "      <td>2020-12-20 15:46:02</td>\n",
       "      <td>login</td>\n",
       "      <td>NaN</td>\n",
       "    </tr>\n",
       "    <tr>\n",
       "      <th>4</th>\n",
       "      <td>A7A3664BD6242119</td>\n",
       "      <td>A</td>\n",
       "      <td>recommender_system_test</td>\n",
       "      <td>2020-12-20</td>\n",
       "      <td>EU</td>\n",
       "      <td>2020-12-21 00:40:58</td>\n",
       "      <td>login</td>\n",
       "      <td>NaN</td>\n",
       "    </tr>\n",
       "    <tr>\n",
       "      <th>...</th>\n",
       "      <td>...</td>\n",
       "      <td>...</td>\n",
       "      <td>...</td>\n",
       "      <td>...</td>\n",
       "      <td>...</td>\n",
       "      <td>...</td>\n",
       "      <td>...</td>\n",
       "      <td>...</td>\n",
       "    </tr>\n",
       "    <tr>\n",
       "      <th>81030</th>\n",
       "      <td>63FBE257B05F2245</td>\n",
       "      <td>A</td>\n",
       "      <td>interface_eu_test</td>\n",
       "      <td>2020-12-20</td>\n",
       "      <td>EU</td>\n",
       "      <td>2020-12-23 13:03:17</td>\n",
       "      <td>login</td>\n",
       "      <td>NaN</td>\n",
       "    </tr>\n",
       "    <tr>\n",
       "      <th>81031</th>\n",
       "      <td>79F9ABFB029CF724</td>\n",
       "      <td>B</td>\n",
       "      <td>interface_eu_test</td>\n",
       "      <td>2020-12-14</td>\n",
       "      <td>EU</td>\n",
       "      <td>2020-12-14 19:12:49</td>\n",
       "      <td>login</td>\n",
       "      <td>NaN</td>\n",
       "    </tr>\n",
       "    <tr>\n",
       "      <th>81032</th>\n",
       "      <td>79F9ABFB029CF724</td>\n",
       "      <td>B</td>\n",
       "      <td>interface_eu_test</td>\n",
       "      <td>2020-12-14</td>\n",
       "      <td>EU</td>\n",
       "      <td>2020-12-15 01:50:22</td>\n",
       "      <td>login</td>\n",
       "      <td>NaN</td>\n",
       "    </tr>\n",
       "    <tr>\n",
       "      <th>81033</th>\n",
       "      <td>79F9ABFB029CF724</td>\n",
       "      <td>B</td>\n",
       "      <td>interface_eu_test</td>\n",
       "      <td>2020-12-14</td>\n",
       "      <td>EU</td>\n",
       "      <td>2020-12-16 19:27:36</td>\n",
       "      <td>login</td>\n",
       "      <td>NaN</td>\n",
       "    </tr>\n",
       "    <tr>\n",
       "      <th>81034</th>\n",
       "      <td>79F9ABFB029CF724</td>\n",
       "      <td>B</td>\n",
       "      <td>interface_eu_test</td>\n",
       "      <td>2020-12-14</td>\n",
       "      <td>EU</td>\n",
       "      <td>2020-12-20 13:04:31</td>\n",
       "      <td>login</td>\n",
       "      <td>NaN</td>\n",
       "    </tr>\n",
       "  </tbody>\n",
       "</table>\n",
       "<p>81035 rows × 8 columns</p>\n",
       "</div>"
      ],
      "text/plain": [
       "                user_id group                  ab_test first_date_x region  \\\n",
       "0      D1ABA3E2887B6A73     A  recommender_system_test   2020-12-07     EU   \n",
       "1      A7A3664BD6242119     A  recommender_system_test   2020-12-20     EU   \n",
       "2      A7A3664BD6242119     A  recommender_system_test   2020-12-20     EU   \n",
       "3      A7A3664BD6242119     A  recommender_system_test   2020-12-20     EU   \n",
       "4      A7A3664BD6242119     A  recommender_system_test   2020-12-20     EU   \n",
       "...                 ...   ...                      ...          ...    ...   \n",
       "81030  63FBE257B05F2245     A        interface_eu_test   2020-12-20     EU   \n",
       "81031  79F9ABFB029CF724     B        interface_eu_test   2020-12-14     EU   \n",
       "81032  79F9ABFB029CF724     B        interface_eu_test   2020-12-14     EU   \n",
       "81033  79F9ABFB029CF724     B        interface_eu_test   2020-12-14     EU   \n",
       "81034  79F9ABFB029CF724     B        interface_eu_test   2020-12-14     EU   \n",
       "\n",
       "                 event_dt    event_name  details  \n",
       "0                     NaT           NaN      NaN  \n",
       "1     2020-12-20 15:46:06  product_page      NaN  \n",
       "2     2020-12-21 00:40:59  product_page      NaN  \n",
       "3     2020-12-20 15:46:02         login      NaN  \n",
       "4     2020-12-21 00:40:58         login      NaN  \n",
       "...                   ...           ...      ...  \n",
       "81030 2020-12-23 13:03:17         login      NaN  \n",
       "81031 2020-12-14 19:12:49         login      NaN  \n",
       "81032 2020-12-15 01:50:22         login      NaN  \n",
       "81033 2020-12-16 19:27:36         login      NaN  \n",
       "81034 2020-12-20 13:04:31         login      NaN  \n",
       "\n",
       "[81035 rows x 8 columns]"
      ]
     },
     "execution_count": 36,
     "metadata": {},
     "output_type": "execute_result"
    }
   ],
   "source": [
    "eventos_usuarios"
   ]
  },
  {
   "cell_type": "markdown",
   "metadata": {},
   "source": [
    "**Filtrando os dados para ações realizadas em até 14 dias após o cadastro do usuário**"
   ]
  },
  {
   "cell_type": "code",
   "execution_count": 37,
   "metadata": {},
   "outputs": [],
   "source": [
    "eventos_usuarios = eventos_usuarios[eventos_usuarios['first_date_x'] - eventos_usuarios['event_dt'] <= pd.Timedelta(days=14)] "
   ]
  },
  {
   "cell_type": "markdown",
   "metadata": {},
   "source": [
    "**Público: 15% de novos usuários da região da UE**"
   ]
  },
  {
   "cell_type": "code",
   "execution_count": 38,
   "metadata": {},
   "outputs": [],
   "source": [
    "eventos = eventos.drop(eventos[~eventos['regions'].str.contains('EU')].index)"
   ]
  },
  {
   "cell_type": "code",
   "execution_count": 39,
   "metadata": {},
   "outputs": [],
   "source": [
    "cadastros= cadastros.drop(cadastros[~cadastros['region'].str.contains('EU')].index)"
   ]
  },
  {
   "cell_type": "code",
   "execution_count": 40,
   "metadata": {},
   "outputs": [
    {
     "data": {
      "text/plain": [
       "EU    43396\n",
       "Name: region, dtype: int64"
      ]
     },
     "execution_count": 40,
     "metadata": {},
     "output_type": "execute_result"
    }
   ],
   "source": [
    "cadastros['region'].value_counts()"
   ]
  },
  {
   "cell_type": "code",
   "execution_count": 41,
   "metadata": {},
   "outputs": [
    {
     "data": {
      "text/plain": [
       "73.9246716522154"
      ]
     },
     "execution_count": 41,
     "metadata": {},
     "output_type": "execute_result"
    }
   ],
   "source": [
    "# 58703 é o total de usuários cadastrados antes de excluirmos os que não são da UE\n",
    "\n",
    "43396/58703 * 100"
   ]
  },
  {
   "cell_type": "markdown",
   "metadata": {},
   "source": [
    "Quase 74% dos usuários cadastrados são da região da UE."
   ]
  },
  {
   "cell_type": "markdown",
   "metadata": {},
   "source": [
    "**Número esperado de participantes do teste: 6000**"
   ]
  },
  {
   "cell_type": "code",
   "execution_count": 42,
   "metadata": {},
   "outputs": [
    {
     "data": {
      "text/html": [
       "<div>\n",
       "<style scoped>\n",
       "    .dataframe tbody tr th:only-of-type {\n",
       "        vertical-align: middle;\n",
       "    }\n",
       "\n",
       "    .dataframe tbody tr th {\n",
       "        vertical-align: top;\n",
       "    }\n",
       "\n",
       "    .dataframe thead th {\n",
       "        text-align: right;\n",
       "    }\n",
       "</style>\n",
       "<table border=\"1\" class=\"dataframe\">\n",
       "  <thead>\n",
       "    <tr style=\"text-align: right;\">\n",
       "      <th></th>\n",
       "      <th></th>\n",
       "      <th>user_id</th>\n",
       "    </tr>\n",
       "    <tr>\n",
       "      <th>ab_test</th>\n",
       "      <th>group</th>\n",
       "      <th></th>\n",
       "    </tr>\n",
       "  </thead>\n",
       "  <tbody>\n",
       "    <tr>\n",
       "      <th rowspan=\"2\" valign=\"top\">interface_eu_test</th>\n",
       "      <th>A</th>\n",
       "      <td>3922</td>\n",
       "    </tr>\n",
       "    <tr>\n",
       "      <th>B</th>\n",
       "      <td>3837</td>\n",
       "    </tr>\n",
       "    <tr>\n",
       "      <th rowspan=\"2\" valign=\"top\">recommender_system_test</th>\n",
       "      <th>A</th>\n",
       "      <td>2167</td>\n",
       "    </tr>\n",
       "    <tr>\n",
       "      <th>B</th>\n",
       "      <td>653</td>\n",
       "    </tr>\n",
       "  </tbody>\n",
       "</table>\n",
       "</div>"
      ],
      "text/plain": [
       "                               user_id\n",
       "ab_test                 group         \n",
       "interface_eu_test       A         3922\n",
       "                        B         3837\n",
       "recommender_system_test A         2167\n",
       "                        B          653"
      ]
     },
     "execution_count": 42,
     "metadata": {},
     "output_type": "execute_result"
    }
   ],
   "source": [
    "eventos_usuarios.pivot_table(index=['ab_test', 'group'], values='user_id', aggfunc='nunique')"
   ]
  },
  {
   "cell_type": "markdown",
   "metadata": {},
   "source": [
    "O número de participantes esperado é de 6000, mas não foi alcançado, isso pode afetar os resultados, eles podem não ser precisos."
   ]
  },
  {
   "cell_type": "markdown",
   "metadata": {},
   "source": [
    "**Filtrando os dados para eventos desejados (product_page → product_cart → purchase) / nome do teste: recommender_system_test**"
   ]
  },
  {
   "cell_type": "code",
   "execution_count": 43,
   "metadata": {},
   "outputs": [],
   "source": [
    "eventos_interesse = ['product_page', 'product_cart', 'purchase']\n",
    "eventos_usuarios = eventos_usuarios[(eventos_usuarios['event_name'].isin(eventos_interesse))]\n",
    "eventos_interesse = eventos_usuarios[(eventos_usuarios['event_name'].isin(eventos_interesse)) & (eventos_usuarios['ab_test']=='recommender_system_test')]"
   ]
  },
  {
   "cell_type": "markdown",
   "metadata": {},
   "source": [
    "**Filtrando as datas**"
   ]
  },
  {
   "cell_type": "code",
   "execution_count": 44,
   "metadata": {},
   "outputs": [],
   "source": [
    "eventos_usuarios = eventos_usuarios[eventos_usuarios['event_dt'] >= eventos_usuarios.groupby('user_id')['first_date_x'].transform('min')]\n",
    "eventos_usuarios = eventos_usuarios[eventos_usuarios['event_dt'] <= eventos_usuarios['event_dt'] + pd.Timedelta(days=14)]\n",
    "eventos_usuarios = eventos_usuarios.dropna(subset=['event_name'])"
   ]
  },
  {
   "cell_type": "markdown",
   "metadata": {},
   "source": [
    "### Estudando a conversão em diferentes etapas do funil"
   ]
  },
  {
   "cell_type": "code",
   "execution_count": 45,
   "metadata": {
    "scrolled": false
   },
   "outputs": [
    {
     "name": "stderr",
     "output_type": "stream",
     "text": [
      "/tmp/ipykernel_139/3751294232.py:1: UserWarning: Boolean Series key will be reindexed to match DataFrame index.\n",
      "  product_pageB = eventos_interesse[(eventos_interesse['event_name'] == 'product_page')&((eventos_usuarios['group']=='B'))]['user_id'].nunique()\n",
      "/tmp/ipykernel_139/3751294232.py:2: UserWarning: Boolean Series key will be reindexed to match DataFrame index.\n",
      "  product_cartB = eventos_interesse[(eventos_interesse['event_name'] == 'product_cart')&((eventos_usuarios['group']=='B'))]['user_id'].nunique()\n",
      "/tmp/ipykernel_139/3751294232.py:3: UserWarning: Boolean Series key will be reindexed to match DataFrame index.\n",
      "  purchaseB = eventos_interesse[(eventos_interesse['event_name'] == 'purchase')&((eventos_usuarios['group']=='B'))]['user_id'].nunique()\n"
     ]
    }
   ],
   "source": [
    "product_pageB = eventos_interesse[(eventos_interesse['event_name'] == 'product_page')&((eventos_usuarios['group']=='B'))]['user_id'].nunique()\n",
    "product_cartB = eventos_interesse[(eventos_interesse['event_name'] == 'product_cart')&((eventos_usuarios['group']=='B'))]['user_id'].nunique()\n",
    "purchaseB = eventos_interesse[(eventos_interesse['event_name'] == 'purchase')&((eventos_usuarios['group']=='B'))]['user_id'].nunique()"
   ]
  },
  {
   "cell_type": "code",
   "execution_count": 46,
   "metadata": {
    "scrolled": true
   },
   "outputs": [
    {
     "name": "stderr",
     "output_type": "stream",
     "text": [
      "/tmp/ipykernel_139/590575985.py:1: UserWarning: Boolean Series key will be reindexed to match DataFrame index.\n",
      "  product_pageA = eventos_interesse[(eventos_interesse['event_name'] == 'product_page')&((eventos_usuarios['group']=='A'))]['user_id'].nunique()\n",
      "/tmp/ipykernel_139/590575985.py:2: UserWarning: Boolean Series key will be reindexed to match DataFrame index.\n",
      "  product_cartA = eventos_interesse[(eventos_interesse['event_name'] == 'product_cart')&((eventos_usuarios['group']=='A'))]['user_id'].nunique()\n",
      "/tmp/ipykernel_139/590575985.py:3: UserWarning: Boolean Series key will be reindexed to match DataFrame index.\n",
      "  purchaseA = eventos_interesse[(eventos_interesse['event_name'] == 'purchase')&((eventos_usuarios['group']=='A'))]['user_id'].nunique()\n"
     ]
    }
   ],
   "source": [
    "product_pageA = eventos_interesse[(eventos_interesse['event_name'] == 'product_page')&((eventos_usuarios['group']=='A'))]['user_id'].nunique()\n",
    "product_cartA = eventos_interesse[(eventos_interesse['event_name'] == 'product_cart')&((eventos_usuarios['group']=='A'))]['user_id'].nunique()\n",
    "purchaseA = eventos_interesse[(eventos_interesse['event_name'] == 'purchase')&((eventos_usuarios['group']=='A'))]['user_id'].nunique()"
   ]
  },
  {
   "cell_type": "markdown",
   "metadata": {},
   "source": [
    "**Analisar resultado esperado: 10% de aumento a cada etapa do funil**\n",
    "\n",
    "Calculando a taxa de conversão "
   ]
  },
  {
   "cell_type": "markdown",
   "metadata": {},
   "source": [
    "**Grupo A**"
   ]
  },
  {
   "cell_type": "code",
   "execution_count": 47,
   "metadata": {
    "scrolled": true
   },
   "outputs": [
    {
     "name": "stdout",
     "output_type": "stream",
     "text": [
      "0.286734693877551\n",
      "0.1363265306122449\n",
      "0.14\n"
     ]
    }
   ],
   "source": [
    "grupoA = eventos_usuarios[eventos_usuarios['group']=='A']['user_id'].nunique()\n",
    "conversao_product_pageA = product_pageA / grupoA\n",
    "print(conversao_product_pageA)\n",
    "conversao_product_cartA = product_cartA / grupoA\n",
    "print(conversao_product_cartA)\n",
    "conversao_purchaseA = purchaseA / grupoA\n",
    "print(conversao_purchaseA)"
   ]
  },
  {
   "cell_type": "code",
   "execution_count": 48,
   "metadata": {},
   "outputs": [
    {
     "data": {
      "text/plain": [
       "False"
      ]
     },
     "execution_count": 48,
     "metadata": {},
     "output_type": "execute_result"
    }
   ],
   "source": [
    "conversao_product_pageA * 1.1 <= conversao_product_cartA and conversao_product_cartA * 1.1 <= conversao_purchaseA"
   ]
  },
  {
   "cell_type": "markdown",
   "metadata": {},
   "source": [
    "**Grupo B**"
   ]
  },
  {
   "cell_type": "code",
   "execution_count": 49,
   "metadata": {},
   "outputs": [
    {
     "name": "stdout",
     "output_type": "stream",
     "text": [
      "0.0962962962962963\n",
      "0.050205761316872426\n",
      "0.04691358024691358\n"
     ]
    }
   ],
   "source": [
    "grupoB = eventos_usuarios[eventos_usuarios['group']=='B']['user_id'].nunique()\n",
    "conversao_product_pageB = product_pageB / grupoB\n",
    "print(conversao_product_pageB)\n",
    "conversao_product_cartB = product_cartB / grupoB\n",
    "print(conversao_product_cartB)\n",
    "conversao_purchaseB = purchaseB / grupoB\n",
    "print(conversao_purchaseB)"
   ]
  },
  {
   "cell_type": "code",
   "execution_count": 50,
   "metadata": {},
   "outputs": [
    {
     "data": {
      "text/plain": [
       "False"
      ]
     },
     "execution_count": 50,
     "metadata": {},
     "output_type": "execute_result"
    }
   ],
   "source": [
    "conversao_product_pageB * 1.1 <= conversao_product_cartB and conversao_product_cartB * 1.1 <= conversao_purchaseB"
   ]
  },
  {
   "cell_type": "markdown",
   "metadata": {},
   "source": [
    "**Ambos os grupos**"
   ]
  },
  {
   "cell_type": "code",
   "execution_count": 51,
   "metadata": {},
   "outputs": [],
   "source": [
    "users_in_both_groups = eventos_usuarios.groupby('user_id')['group'].nunique() == 2\n",
    "users_AB = eventos_usuarios[eventos_usuarios['user_id'].isin(users_in_both_groups[users_in_both_groups].index)]"
   ]
  },
  {
   "cell_type": "code",
   "execution_count": 52,
   "metadata": {},
   "outputs": [],
   "source": [
    "eventos_interesseAB = users_AB[users_AB['ab_test']=='recommender_system_test']\n",
    "n_AB = users_AB['user_id'].count()"
   ]
  },
  {
   "cell_type": "code",
   "execution_count": 76,
   "metadata": {},
   "outputs": [],
   "source": [
    "product_pageAB = eventos_interesseAB[(eventos_interesseAB['event_name'] == 'product_page')]['user_id'].count()\n",
    "product_cartAB = eventos_interesseAB[(eventos_interesseAB['event_name'] == 'product_cart')]['user_id'].count()\n",
    "purchaseAB = eventos_interesseAB[(eventos_interesseAB['event_name'] == 'purchase')]['user_id'].count()"
   ]
  },
  {
   "cell_type": "code",
   "execution_count": 77,
   "metadata": {},
   "outputs": [
    {
     "name": "stdout",
     "output_type": "stream",
     "text": [
      "0.0962962962962963\n",
      "0.050205761316872426\n",
      "0.04691358024691358\n"
     ]
    }
   ],
   "source": [
    "users_in_both_groups = eventos_usuarios.groupby('user_id')['group'].nunique() == 2\n",
    "users_AB = eventos_usuarios[eventos_usuarios['user_id'].isin(users_in_both_groups[users_in_both_groups].index)]\n",
    "conversao_product_pageAB = product_pageAB / n_AB\n",
    "print(conversao_product_pageB)\n",
    "conversao_product_cartAB = product_cartAB / n_AB\n",
    "print(conversao_product_cartB)\n",
    "conversao_purchaseAB = purchaseAB / n_AB\n",
    "print(conversao_purchaseB)"
   ]
  },
  {
   "cell_type": "code",
   "execution_count": 78,
   "metadata": {},
   "outputs": [
    {
     "data": {
      "text/plain": [
       "False"
      ]
     },
     "execution_count": 78,
     "metadata": {},
     "output_type": "execute_result"
    }
   ],
   "source": [
    "conversao_product_pageAB * 1.1 <= conversao_product_cartAB and conversao_product_cartAB * 1.1 <= conversao_purchaseAB"
   ]
  },
  {
   "cell_type": "markdown",
   "metadata": {},
   "source": [
    "As taxas de conversão não aumentaram em pelo menos 10% em todas as etapas do funil nem para usuários que estão no grupo A nem para usuários que estão no grupo B, e nem para usuários que estão em ambos os grupos - o resultado esperado não foi alcançado."
   ]
  },
  {
   "cell_type": "markdown",
   "metadata": {},
   "source": [
    "### O número de eventos por usuário é distribuído igualmente entre as amostras?"
   ]
  },
  {
   "cell_type": "code",
   "execution_count": 56,
   "metadata": {},
   "outputs": [],
   "source": [
    "A = eventos_usuarios[eventos_usuarios['group'] == 'A']\n",
    "B = eventos_usuarios[eventos_usuarios['group'] == 'B']"
   ]
  },
  {
   "cell_type": "code",
   "execution_count": 57,
   "metadata": {},
   "outputs": [
    {
     "data": {
      "text/plain": [
       "event_name\n",
       "product_cart    1888\n",
       "product_page    3839\n",
       "purchase        1991\n",
       "Name: user_id, dtype: int64"
      ]
     },
     "execution_count": 57,
     "metadata": {},
     "output_type": "execute_result"
    }
   ],
   "source": [
    "A.groupby('event_name')['user_id'].nunique()"
   ]
  },
  {
   "cell_type": "code",
   "execution_count": 58,
   "metadata": {},
   "outputs": [
    {
     "data": {
      "text/plain": [
       "event_name\n",
       "product_cart    1453\n",
       "product_page    2812\n",
       "purchase        1407\n",
       "Name: user_id, dtype: int64"
      ]
     },
     "execution_count": 58,
     "metadata": {},
     "output_type": "execute_result"
    }
   ],
   "source": [
    "B.groupby('event_name')['user_id'].nunique()"
   ]
  },
  {
   "cell_type": "code",
   "execution_count": 59,
   "metadata": {},
   "outputs": [
    {
     "data": {
      "text/plain": [
       "4900"
      ]
     },
     "execution_count": 59,
     "metadata": {},
     "output_type": "execute_result"
    }
   ],
   "source": [
    "A['user_id'].nunique()"
   ]
  },
  {
   "cell_type": "code",
   "execution_count": 60,
   "metadata": {},
   "outputs": [
    {
     "data": {
      "text/plain": [
       "3645"
      ]
     },
     "execution_count": 60,
     "metadata": {},
     "output_type": "execute_result"
    }
   ],
   "source": [
    "B['user_id'].nunique()"
   ]
  },
  {
   "cell_type": "markdown",
   "metadata": {},
   "source": [
    "O grupo A possui mais eventos por usuário que o B, o que já era de se esperar pois há mais usuários no grupo A, então é proporcional."
   ]
  },
  {
   "cell_type": "markdown",
   "metadata": {},
   "source": [
    "### Como o número de eventos é distribuído entre os dias?"
   ]
  },
  {
   "cell_type": "code",
   "execution_count": 61,
   "metadata": {},
   "outputs": [],
   "source": [
    "eventos['duracao'] = (eventos['finish_dt'] - eventos['start_dt']).dt.days + 1\n",
    "eventos['dia'] = eventos['start_dt'].dt.day\n",
    "eventos['mês'] = eventos['start_dt'].dt.month"
   ]
  },
  {
   "cell_type": "code",
   "execution_count": 62,
   "metadata": {},
   "outputs": [
    {
     "data": {
      "text/html": [
       "<div>\n",
       "<style scoped>\n",
       "    .dataframe tbody tr th:only-of-type {\n",
       "        vertical-align: middle;\n",
       "    }\n",
       "\n",
       "    .dataframe tbody tr th {\n",
       "        vertical-align: top;\n",
       "    }\n",
       "\n",
       "    .dataframe thead th {\n",
       "        text-align: right;\n",
       "    }\n",
       "</style>\n",
       "<table border=\"1\" class=\"dataframe\">\n",
       "  <thead>\n",
       "    <tr style=\"text-align: right;\">\n",
       "      <th></th>\n",
       "      <th>name</th>\n",
       "      <th>regions</th>\n",
       "      <th>start_dt</th>\n",
       "      <th>finish_dt</th>\n",
       "      <th>duracao</th>\n",
       "      <th>dia</th>\n",
       "      <th>mês</th>\n",
       "    </tr>\n",
       "  </thead>\n",
       "  <tbody>\n",
       "    <tr>\n",
       "      <th>1</th>\n",
       "      <td>St. Valentine's Day Giveaway</td>\n",
       "      <td>EU, CIS, APAC, N.America</td>\n",
       "      <td>2020-02-14</td>\n",
       "      <td>2020-02-16</td>\n",
       "      <td>3</td>\n",
       "      <td>14</td>\n",
       "      <td>2</td>\n",
       "    </tr>\n",
       "    <tr>\n",
       "      <th>8</th>\n",
       "      <td>International Women's Day Promo</td>\n",
       "      <td>EU, CIS, APAC</td>\n",
       "      <td>2020-03-08</td>\n",
       "      <td>2020-03-10</td>\n",
       "      <td>3</td>\n",
       "      <td>8</td>\n",
       "      <td>3</td>\n",
       "    </tr>\n",
       "    <tr>\n",
       "      <th>2</th>\n",
       "      <td>St. Patric's Day Promo</td>\n",
       "      <td>EU, N.America</td>\n",
       "      <td>2020-03-17</td>\n",
       "      <td>2020-03-19</td>\n",
       "      <td>3</td>\n",
       "      <td>17</td>\n",
       "      <td>3</td>\n",
       "    </tr>\n",
       "    <tr>\n",
       "      <th>3</th>\n",
       "      <td>Easter Promo</td>\n",
       "      <td>EU, CIS, APAC, N.America</td>\n",
       "      <td>2020-04-12</td>\n",
       "      <td>2020-04-19</td>\n",
       "      <td>8</td>\n",
       "      <td>12</td>\n",
       "      <td>4</td>\n",
       "    </tr>\n",
       "    <tr>\n",
       "      <th>7</th>\n",
       "      <td>Labor day (May 1st) Ads Campaign</td>\n",
       "      <td>EU, CIS, APAC</td>\n",
       "      <td>2020-05-01</td>\n",
       "      <td>2020-05-03</td>\n",
       "      <td>3</td>\n",
       "      <td>1</td>\n",
       "      <td>5</td>\n",
       "    </tr>\n",
       "    <tr>\n",
       "      <th>5</th>\n",
       "      <td>Black Friday Ads Campaign</td>\n",
       "      <td>EU, CIS, APAC, N.America</td>\n",
       "      <td>2020-11-26</td>\n",
       "      <td>2020-12-01</td>\n",
       "      <td>6</td>\n",
       "      <td>26</td>\n",
       "      <td>11</td>\n",
       "    </tr>\n",
       "    <tr>\n",
       "      <th>0</th>\n",
       "      <td>Christmas&amp;New Year Promo</td>\n",
       "      <td>EU, N.America</td>\n",
       "      <td>2020-12-25</td>\n",
       "      <td>2021-01-03</td>\n",
       "      <td>10</td>\n",
       "      <td>25</td>\n",
       "      <td>12</td>\n",
       "    </tr>\n",
       "  </tbody>\n",
       "</table>\n",
       "</div>"
      ],
      "text/plain": [
       "                               name                   regions   start_dt  \\\n",
       "1      St. Valentine's Day Giveaway  EU, CIS, APAC, N.America 2020-02-14   \n",
       "8   International Women's Day Promo             EU, CIS, APAC 2020-03-08   \n",
       "2            St. Patric's Day Promo             EU, N.America 2020-03-17   \n",
       "3                      Easter Promo  EU, CIS, APAC, N.America 2020-04-12   \n",
       "7  Labor day (May 1st) Ads Campaign             EU, CIS, APAC 2020-05-01   \n",
       "5         Black Friday Ads Campaign  EU, CIS, APAC, N.America 2020-11-26   \n",
       "0          Christmas&New Year Promo             EU, N.America 2020-12-25   \n",
       "\n",
       "   finish_dt  duracao  dia  mês  \n",
       "1 2020-02-16        3   14    2  \n",
       "8 2020-03-10        3    8    3  \n",
       "2 2020-03-19        3   17    3  \n",
       "3 2020-04-19        8   12    4  \n",
       "7 2020-05-03        3    1    5  \n",
       "5 2020-12-01        6   26   11  \n",
       "0 2021-01-03       10   25   12  "
      ]
     },
     "execution_count": 62,
     "metadata": {},
     "output_type": "execute_result"
    }
   ],
   "source": [
    "eventos.sort_values(['mês', 'dia'])"
   ]
  },
  {
   "cell_type": "code",
   "execution_count": 63,
   "metadata": {
    "scrolled": false
   },
   "outputs": [
    {
     "name": "stdout",
     "output_type": "stream",
     "text": [
      "                                name                   regions   start_dt  \\\n",
      "0           Christmas&New Year Promo             EU, N.America 2020-12-25   \n",
      "1           Christmas&New Year Promo             EU, N.America 2020-12-26   \n",
      "2           Christmas&New Year Promo             EU, N.America 2020-12-27   \n",
      "3           Christmas&New Year Promo             EU, N.America 2020-12-28   \n",
      "4           Christmas&New Year Promo             EU, N.America 2020-12-29   \n",
      "5           Christmas&New Year Promo             EU, N.America 2020-12-30   \n",
      "6           Christmas&New Year Promo             EU, N.America 2020-12-31   \n",
      "7           Christmas&New Year Promo             EU, N.America 2021-01-01   \n",
      "8           Christmas&New Year Promo             EU, N.America 2021-01-02   \n",
      "9           Christmas&New Year Promo             EU, N.America 2021-01-03   \n",
      "10      St. Valentine's Day Giveaway  EU, CIS, APAC, N.America 2020-02-14   \n",
      "11      St. Valentine's Day Giveaway  EU, CIS, APAC, N.America 2020-02-15   \n",
      "12      St. Valentine's Day Giveaway  EU, CIS, APAC, N.America 2020-02-16   \n",
      "13            St. Patric's Day Promo             EU, N.America 2020-03-17   \n",
      "14            St. Patric's Day Promo             EU, N.America 2020-03-18   \n",
      "15            St. Patric's Day Promo             EU, N.America 2020-03-19   \n",
      "16                      Easter Promo  EU, CIS, APAC, N.America 2020-04-12   \n",
      "17                      Easter Promo  EU, CIS, APAC, N.America 2020-04-13   \n",
      "18                      Easter Promo  EU, CIS, APAC, N.America 2020-04-14   \n",
      "19                      Easter Promo  EU, CIS, APAC, N.America 2020-04-15   \n",
      "20                      Easter Promo  EU, CIS, APAC, N.America 2020-04-16   \n",
      "21                      Easter Promo  EU, CIS, APAC, N.America 2020-04-17   \n",
      "22                      Easter Promo  EU, CIS, APAC, N.America 2020-04-18   \n",
      "23                      Easter Promo  EU, CIS, APAC, N.America 2020-04-19   \n",
      "24         Black Friday Ads Campaign  EU, CIS, APAC, N.America 2020-11-26   \n",
      "25         Black Friday Ads Campaign  EU, CIS, APAC, N.America 2020-11-27   \n",
      "26         Black Friday Ads Campaign  EU, CIS, APAC, N.America 2020-11-28   \n",
      "27         Black Friday Ads Campaign  EU, CIS, APAC, N.America 2020-11-29   \n",
      "28         Black Friday Ads Campaign  EU, CIS, APAC, N.America 2020-11-30   \n",
      "29         Black Friday Ads Campaign  EU, CIS, APAC, N.America 2020-12-01   \n",
      "30  Labor day (May 1st) Ads Campaign             EU, CIS, APAC 2020-05-01   \n",
      "31  Labor day (May 1st) Ads Campaign             EU, CIS, APAC 2020-05-02   \n",
      "32  Labor day (May 1st) Ads Campaign             EU, CIS, APAC 2020-05-03   \n",
      "33   International Women's Day Promo             EU, CIS, APAC 2020-03-08   \n",
      "34   International Women's Day Promo             EU, CIS, APAC 2020-03-09   \n",
      "35   International Women's Day Promo             EU, CIS, APAC 2020-03-10   \n",
      "\n",
      "    finish_dt  duracao  \n",
      "0  2020-12-25       10  \n",
      "1  2020-12-26       10  \n",
      "2  2020-12-27       10  \n",
      "3  2020-12-28       10  \n",
      "4  2020-12-29       10  \n",
      "5  2020-12-30       10  \n",
      "6  2020-12-31       10  \n",
      "7  2021-01-01       10  \n",
      "8  2021-01-02       10  \n",
      "9  2021-01-03       10  \n",
      "10 2020-02-14        3  \n",
      "11 2020-02-15        3  \n",
      "12 2020-02-16        3  \n",
      "13 2020-03-17        3  \n",
      "14 2020-03-18        3  \n",
      "15 2020-03-19        3  \n",
      "16 2020-04-12        8  \n",
      "17 2020-04-13        8  \n",
      "18 2020-04-14        8  \n",
      "19 2020-04-15        8  \n",
      "20 2020-04-16        8  \n",
      "21 2020-04-17        8  \n",
      "22 2020-04-18        8  \n",
      "23 2020-04-19        8  \n",
      "24 2020-11-26        6  \n",
      "25 2020-11-27        6  \n",
      "26 2020-11-28        6  \n",
      "27 2020-11-29        6  \n",
      "28 2020-11-30        6  \n",
      "29 2020-12-01        6  \n",
      "30 2020-05-01        3  \n",
      "31 2020-05-02        3  \n",
      "32 2020-05-03        3  \n",
      "33 2020-03-08        3  \n",
      "34 2020-03-09        3  \n",
      "35 2020-03-10        3  \n"
     ]
    }
   ],
   "source": [
    "# Lista referente a novas linhas a serem criadas na função para expandir\n",
    "rows = []\n",
    "\n",
    "# Iterando sobre as linhas do DataFrame\n",
    "for index, row in eventos.iterrows():\n",
    "    # Extraindo as informações do evento\n",
    "    name = row['name']\n",
    "    regions = row['regions']\n",
    "    start_dt = row['start_dt']\n",
    "    finish_dt = row['finish_dt']\n",
    "    duracao = row['duracao']\n",
    "    dia_evento = row['dia']\n",
    "    \n",
    "    # Calculando o número de dias entre o início e o fim do evento\n",
    "    n_dias = (finish_dt - start_dt).days + 1\n",
    "    \n",
    "    # Criando uma nova linha para cada dia do evento\n",
    "    for i in range(n_dias):\n",
    "        dia = start_dt + pd.Timedelta(days=i)\n",
    "        nova_linha = [name, regions, dia, dia, duracao]\n",
    "        rows.append(nova_linha)\n",
    "\n",
    "# Criando um novo DataFrame com as linhas adicionais\n",
    "df_freq_eventos = pd.DataFrame(rows, columns=['name', 'regions', 'start_dt', 'finish_dt', 'duracao'])\n",
    "print(df_freq_eventos)"
   ]
  },
  {
   "cell_type": "code",
   "execution_count": 64,
   "metadata": {},
   "outputs": [
    {
     "data": {
      "image/png": "[encoded data removed]",
      "text/plain": [
       "<Figure size 1080x576 with 1 Axes>"
      ]
     },
     "metadata": {
      "needs_background": "light"
     },
     "output_type": "display_data"
    }
   ],
   "source": [
    "# Convertendo a coluna 'start_dt' para datetime\n",
    "df_freq_eventos['start_dt'] = pd.to_datetime(df_freq_eventos['start_dt'])\n",
    "df_freq_eventos.set_index('start_dt', inplace=True)\n",
    "eventos_por_mes = df_freq_eventos.resample('W').size()\n",
    "\n",
    "# Plotando o gráfico de linha\n",
    "plt.figure(figsize=(15, 8))\n",
    "plt.plot(eventos_por_mes)\n",
    "plt.xlabel('Data')\n",
    "plt.ylabel('Quantidade de Eventos')\n",
    "plt.title('Quantidade de Eventos por Mês')\n",
    "\n",
    "plt.show()"
   ]
  },
  {
   "cell_type": "markdown",
   "metadata": {},
   "source": [
    "Os eventos são sempre em datas comemorativas, e tem média de duração de 3 dias; exceto as campanhas de páscoa, Black friday e natal/ ano novo - campanhas de final de ano/ início do ano são mais longas e com certeza são as que mais chamam atenção dos usuários."
   ]
  },
  {
   "cell_type": "markdown",
   "metadata": {},
   "source": [
    "## Avaliando resultados"
   ]
  },
  {
   "cell_type": "markdown",
   "metadata": {},
   "source": [
    "### Calculando proporções entre grupos para cada etapa do funil (product_page, product_cart, purchase)"
   ]
  },
  {
   "cell_type": "markdown",
   "metadata": {},
   "source": [
    "- Página do produto"
   ]
  },
  {
   "cell_type": "code",
   "execution_count": 65,
   "metadata": {},
   "outputs": [],
   "source": [
    "eventos_interesse['pg_produto'] = (eventos_interesse['event_name'] == 'product_page').astype(int)"
   ]
  },
  {
   "cell_type": "code",
   "execution_count": 66,
   "metadata": {},
   "outputs": [],
   "source": [
    "proporcao_produto_grupo_a = eventos_interesse[eventos_interesse['group'] == 'A']['pg_produto'].mean()\n",
    "proporcao_produto_grupo_b = eventos_interesse[eventos_interesse['group'] == 'B']['pg_produto'].mean()"
   ]
  },
  {
   "cell_type": "code",
   "execution_count": 67,
   "metadata": {},
   "outputs": [
    {
     "name": "stdout",
     "output_type": "stream",
     "text": [
      "Proporção para o grupo A: 51.20%\n",
      "Proporção para o grupo B: 50.29%\n"
     ]
    }
   ],
   "source": [
    "print(f'Proporção para o grupo A: {proporcao_produto_grupo_a:.2%}')\n",
    "print(f'Proporção para o grupo B: {proporcao_produto_grupo_b:.2%}')"
   ]
  },
  {
   "cell_type": "markdown",
   "metadata": {},
   "source": [
    "- Página do carrinho"
   ]
  },
  {
   "cell_type": "code",
   "execution_count": 68,
   "metadata": {},
   "outputs": [],
   "source": [
    "eventos_interesse['pg_carrinho'] = (eventos_interesse['event_name'] == 'product_cart').astype(int)"
   ]
  },
  {
   "cell_type": "code",
   "execution_count": 69,
   "metadata": {},
   "outputs": [],
   "source": [
    "proporcao_carrinho_grupo_a = eventos_interesse[eventos_interesse['group'] == 'A']['pg_carrinho'].mean()\n",
    "proporcao_carrinho_grupo_b = eventos_interesse[eventos_interesse['group'] == 'B']['pg_carrinho'].mean()"
   ]
  },
  {
   "cell_type": "code",
   "execution_count": 70,
   "metadata": {
    "scrolled": false
   },
   "outputs": [
    {
     "name": "stdout",
     "output_type": "stream",
     "text": [
      "Proporção para o grupo A: 24.36%\n",
      "Proporção para o grupo B: 26.14%\n"
     ]
    }
   ],
   "source": [
    "print(f'Proporção para o grupo A: {proporcao_carrinho_grupo_a:.2%}')\n",
    "print(f'Proporção para o grupo B: {proporcao_carrinho_grupo_b:.2%}')"
   ]
  },
  {
   "cell_type": "markdown",
   "metadata": {},
   "source": [
    "- Compra"
   ]
  },
  {
   "cell_type": "code",
   "execution_count": 71,
   "metadata": {},
   "outputs": [],
   "source": [
    "eventos_interesse['compra'] = (eventos_interesse['event_name'] == 'purchase').astype(int)"
   ]
  },
  {
   "cell_type": "code",
   "execution_count": 72,
   "metadata": {},
   "outputs": [],
   "source": [
    "proporcao_compra_grupo_a = eventos_interesse[eventos_interesse['group'] == 'A']['compra'].mean()\n",
    "proporcao_compra_grupo_b = eventos_interesse[eventos_interesse['group'] == 'B']['compra'].mean()"
   ]
  },
  {
   "cell_type": "code",
   "execution_count": 73,
   "metadata": {},
   "outputs": [
    {
     "name": "stdout",
     "output_type": "stream",
     "text": [
      "Proporção para o grupo A: 24.44%\n",
      "Proporção para o grupo B: 23.57%\n"
     ]
    }
   ],
   "source": [
    "print(f'Proporção para o grupo A: {proporcao_compra_grupo_a:.2%}')\n",
    "print(f'Proporção para o grupo B: {proporcao_compra_grupo_b:.2%}')"
   ]
  },
  {
   "cell_type": "markdown",
   "metadata": {},
   "source": [
    "### Testando diferenças estatísticas"
   ]
  },
  {
   "cell_type": "code",
   "execution_count": 74,
   "metadata": {},
   "outputs": [],
   "source": [
    "def conversions_z_test(sample_A, sample_B, alpha):\n",
    "\n",
    "    event_list = []\n",
    "    sample_a_conv_list = []\n",
    "    sample_b_conv_list = []\n",
    "    conv_diff_list = []\n",
    "    reject_null_list = []\n",
    "    events = eventos_interesse['event_name'].unique()\n",
    "\n",
    "    for event in events:\n",
    "        # calcular o total de usuários únicos para ambas as amostras\n",
    "        total_users_A = sample_A['user_id'].nunique()\n",
    "        total_users_B = sample_B['user_id'].nunique()\n",
    "\n",
    "        # calcule usuários únicos por cada evento para ambas as amostras\n",
    "        users_per_event_A = sample_A.groupby('event_name')['user_id'].nunique().sort_values(ascending=False)\n",
    "        users_per_event_B = sample_B.groupby('event_name')['user_id'].nunique().sort_values(ascending=False)\n",
    "\n",
    "        # calcular a porcentagem de usuários que acionaram cada evento para ambas as amostras\n",
    "        percent_users_events_A = users_per_event_A / total_users_A\n",
    "        percent_users_events_B = users_per_event_B / total_users_B\n",
    "\n",
    "        # executar z-test\n",
    "        p1 = percent_users_events_A[event]\n",
    "        p2 = percent_users_events_B[event] \n",
    "        p = (users_per_event_A[event] + users_per_event_B[event]) / (total_users_A + total_users_B)\n",
    "     # calcular z para amostras\n",
    "        z = ((p1 - p2) - 0) / (math.sqrt((p*(1-p))*((1/total_users_A)+(1/total_users_B))))\n",
    "\n",
    "        # obter pontuação z de alfa\n",
    "        z_score = st.norm.ppf(1 - alpha)\n",
    "\n",
    "        # obter resultados\n",
    "        if z >= z_score:\n",
    "            reject_null = False\n",
    "        else:\n",
    "            reject_null = True\n",
    "\n",
    "        # anexar dados e resultados a listas\n",
    "        event_list.append(event)\n",
    "        sample_a_conv_list.append((percent_users_events_A[event]*100).round(2))\n",
    "        sample_b_conv_list.append((percent_users_events_B[event]*100).round(2))\n",
    "        conv_diff_list = np.array(sample_a_conv_list) - np.array(sample_b_conv_list)\n",
    "        reject_null_list.append(reject_null)\n",
    "\n",
    "        # criar dicionário de resultados para DataFrame\n",
    "        result_dict = {'event': event_list,\n",
    "                   'sample_a_conv': sample_a_conv_list,\n",
    "                   'sample_b_conv': sample_b_conv_list,\n",
    "                   'difference': conv_diff_list,\n",
    "                   'reject_null': reject_null_list\n",
    "                  }\n",
    "\n",
    "    # print hypotheses    \n",
    "    print(f'Hipótese nula:\\n     A diferença nas taxas de conversão entre amostras é estatisticamente significativa')\n",
    "    print(f'Hipótese alternativa:\\n     A diferença nas taxas de conversão entre amostras não é estatisticamente significativa\\n')\n",
    "    print('alpha =', alpha)\n",
    "\n",
    "    # return results DataFrame\n",
    "    return pd.DataFrame(result_dict)"
   ]
  },
  {
   "cell_type": "code",
   "execution_count": 75,
   "metadata": {
    "scrolled": true
   },
   "outputs": [
    {
     "name": "stdout",
     "output_type": "stream",
     "text": [
      "Hipótese nula:\n",
      "     A diferença nas taxas de conversão entre amostras é estatisticamente significativa\n",
      "Hipótese alternativa:\n",
      "     A diferença nas taxas de conversão entre amostras não é estatisticamente significativa\n",
      "\n",
      "alpha = 0.05\n"
     ]
    },
    {
     "data": {
      "text/html": [
       "<div>\n",
       "<style scoped>\n",
       "    .dataframe tbody tr th:only-of-type {\n",
       "        vertical-align: middle;\n",
       "    }\n",
       "\n",
       "    .dataframe tbody tr th {\n",
       "        vertical-align: top;\n",
       "    }\n",
       "\n",
       "    .dataframe thead th {\n",
       "        text-align: right;\n",
       "    }\n",
       "</style>\n",
       "<table border=\"1\" class=\"dataframe\">\n",
       "  <thead>\n",
       "    <tr style=\"text-align: right;\">\n",
       "      <th></th>\n",
       "      <th>event</th>\n",
       "      <th>sample_a_conv</th>\n",
       "      <th>sample_b_conv</th>\n",
       "      <th>difference</th>\n",
       "      <th>reject_null</th>\n",
       "    </tr>\n",
       "  </thead>\n",
       "  <tbody>\n",
       "    <tr>\n",
       "      <th>0</th>\n",
       "      <td>product_page</td>\n",
       "      <td>78.35</td>\n",
       "      <td>77.15</td>\n",
       "      <td>1.20</td>\n",
       "      <td>True</td>\n",
       "    </tr>\n",
       "    <tr>\n",
       "      <th>1</th>\n",
       "      <td>purchase</td>\n",
       "      <td>40.63</td>\n",
       "      <td>38.60</td>\n",
       "      <td>2.03</td>\n",
       "      <td>False</td>\n",
       "    </tr>\n",
       "    <tr>\n",
       "      <th>2</th>\n",
       "      <td>product_cart</td>\n",
       "      <td>38.53</td>\n",
       "      <td>39.86</td>\n",
       "      <td>-1.33</td>\n",
       "      <td>True</td>\n",
       "    </tr>\n",
       "  </tbody>\n",
       "</table>\n",
       "</div>"
      ],
      "text/plain": [
       "          event  sample_a_conv  sample_b_conv  difference  reject_null\n",
       "0  product_page          78.35          77.15        1.20         True\n",
       "1      purchase          40.63          38.60        2.03        False\n",
       "2  product_cart          38.53          39.86       -1.33         True"
      ]
     },
     "execution_count": 75,
     "metadata": {},
     "output_type": "execute_result"
    }
   ],
   "source": [
    "alpha = 0.05\n",
    "conversions_z_test(A, B, alpha)"
   ]
  },
  {
   "cell_type": "markdown",
   "metadata": {},
   "source": [
    "De acordo com o teste, para os eventos `product_page` e `product_cart` nós rejeitamos a hipótese nula, a diferença entre as amostras não é estatisticamente significativa; já para o evento `purchase`, nós não rejeitamos a hipótese nula, a diferença entre as amostras é estatisticamente significativa."
   ]
  },
  {
   "cell_type": "markdown",
   "metadata": {},
   "source": [
    "## Conclusão"
   ]
  },
  {
   "cell_type": "markdown",
   "metadata": {},
   "source": [
    "Iniciei importando a biblioteca e carregando os dados: as tabelas eventos, cadastros, eventos_usuarios e participantes.\n",
    "\n",
    "Em seguida o pré processamento dos dados, onde:\n",
    "\n",
    "**Tabela eventos**\n",
    "- Transformei o tipo de dados das colunas `start_dt` e `finish_dt` para datetime.\n",
    "\n",
    "**Tabela cadastros**\n",
    "- Transformei o tipo de dados da coluna `first_date` para datetime.\n",
    "\n",
    "**Tabela eventos_usuarios**\n",
    "- Transformei o tipo de dados da coluna `event_dt` para datetime.\n",
    "- Analisei os dados ausentes e descobri que os detalhes são nulos para eventos que não são compras, pois eles não tem valor a ser detalhado.\n",
    "\n",
    "**Tabela participantes**\n",
    "- Estava correta.\n",
    "\n",
    "Para a tabela eventos_usuarios, exclui possíveis dados que ultrapassem o tempo do teste.\n",
    "\n",
    "Na análise explorarória:\n",
    "\n",
    "- Na filtragem dos dados:\n",
    "    - Uni as tabelas com merge().\n",
    "    - Exclui colunas repetidas ou que não eram necessárias.\n",
    "    - Filtrei os dados para ações realizadas em até 14 dias após o cadastro do usuário.\n",
    "    - Filtrei usuários da região da UE.\n",
    "    - Vimos que o número esperado de participantes não foi atingido, o que pode afetar o desempenho de um teste A/B, se a amostra não for representativa, os resultados podem não ser confiáveis nem precisos.\n",
    "    - Filtrei os dados para eventos desejados (product_page → product_cart → purchase).\n",
    "    - Filtrei as datas.\n",
    "    \n",
    "- Estudando a a conversão em diferentes etapas do funil:\n",
    "    - Vimos que o resultado esperado (a cada etapa do funil product_page → product_cart → purchase, terá ao menos 10% de aumento), não foi atingido para nenhum dos grupos e nem para usuários presentes em ambos os grupos.\n",
    "    \n",
    "- O número de eventos por usuário é distribuído igualmente entre as amostras?\n",
    "    - O numero de eventos no grupo A e B são proporcionais, visto que o grupo A possui mais usuários que o grupo B.\n",
    "\n",
    "- Como o número de eventos é distribuído entre os dias?    \n",
    "    - Os eventos são sempre em datas comemorativas, e tem média de duração de 3 dias; exceto as campanhas de páscoa, Black friday e natal/ ano novo - campanhas de final/início de ano são mais longas e com certeza são as que mais chamam atenção dos usuários.\n",
    "    \n",
    "Veja se foi realizado corretamente, e analise os resultados -> o teste não foi realizado corretamente, o número de participantes não foi o esperado, o que possibilita resultados não confiáveis e imprecisos; e o resultado também não atingiu o esperado, não atingiu ao menos 10% de aumento a cada etapa do funil.\n",
    "\n",
    "- Calculando proporções entre grupos para cada etapa do funil:\n",
    "    - A proporção de um grupo para outro na página de produto varia menos que 1%, não há diferença estatística.\n",
    "    - A proporção de um grupo para outro na página do carrinho também é pequena, não há diferença estatística.\n",
    "    - A proporção de um grupo para outro na compra também é menor que 1%, não há diferença estatística.\n",
    "    \n",
    "    \n",
    "- Teste Z:\n",
    "    - De acordo com o teste, para os eventos product_page e product_cart nós rejeitamos a hipótese nula, a diferença entre as amostras não é estatisticamente significativa; já para o evento purchase, nós não rejeitamos a hipótese nula, a diferença entre as amostras é estatisticamente significativa.\n",
    "    \n",
    "-> O número de participantes não foi o esperado, o que possibilita resultados não confiáveis e imprecisos; e o resultado também não foi o esperado, não atingiu pelo menos 10% de aumento a cada etapa do funil."
   ]
  }
 ],
 "metadata": {
  "kernelspec": {
   "display_name": "Python 3 (ipykernel)",
   "language": "python",
   "name": "python3"
  },
  "language_info": {
   "codemirror_mode": {
    "name": "ipython",
    "version": 3
   },
   "file_extension": ".py",
   "mimetype": "text/x-python",
   "name": "python",
   "nbconvert_exporter": "python",
   "pygments_lexer": "ipython3",
   "version": "3.9.5"
  },
  "toc": {
   "base_numbering": 1,
   "nav_menu": {},
   "number_sections": true,
   "sideBar": true,
   "skip_h1_title": true,
   "title_cell": "Table of Contents",
   "title_sidebar": "Contents",
   "toc_cell": false,
   "toc_position": {},
   "toc_section_display": true,
   "toc_window_display": false
  }
 },
 "nbformat": 4,
 "nbformat_minor": 2
}
